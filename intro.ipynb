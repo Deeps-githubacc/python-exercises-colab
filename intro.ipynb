{
  "nbformat": 4,
  "nbformat_minor": 0,
  "metadata": {
    "colab": {
      "name": "intro.ipynb",
      "provenance": [],
      "collapsed_sections": [],
      "authorship_tag": "ABX9TyO2T45umuVXMy8Jnzoq48jB",
      "include_colab_link": true
    },
    "kernelspec": {
      "name": "python3",
      "display_name": "Python 3"
    },
    "language_info": {
      "name": "python"
    }
  },
  "cells": [
    {
      "cell_type": "markdown",
      "metadata": {
        "id": "view-in-github",
        "colab_type": "text"
      },
      "source": [
        "<a href=\"https://colab.research.google.com/github/Deeps-githubacc/python-exercises-colab/blob/main/intro.ipynb\" target=\"_parent\"><img src=\"https://colab.research.google.com/assets/colab-badge.svg\" alt=\"Open In Colab\"/></a>"
      ]
    },
    {
      "cell_type": "markdown",
      "source": [
        "###Basics"
      ],
      "metadata": {
        "id": "NrdXgBNSCZz1"
      }
    },
    {
      "cell_type": "code",
      "execution_count": 1,
      "metadata": {
        "colab": {
          "base_uri": "https://localhost:8080/"
        },
        "id": "d27HWf3V_Kc_",
        "outputId": "f75b8bec-4ff0-431d-f179-04a202cd8a32"
      },
      "outputs": [
        {
          "output_type": "stream",
          "name": "stdout",
          "text": [
            "Hello world! welcome to python exercise repo\n"
          ]
        }
      ],
      "source": [
        "print(\"Hello world! welcome to python exercise repo\")\n"
      ]
    },
    {
      "cell_type": "markdown",
      "source": [
        "*To check python version*"
      ],
      "metadata": {
        "id": "ArGbwbHmEb9m"
      }
    },
    {
      "cell_type": "code",
      "source": [
        "import sys\n",
        "print(sys.version)\n",
        "print(sys.version.split()[0]) ##more readable form"
      ],
      "metadata": {
        "colab": {
          "base_uri": "https://localhost:8080/"
        },
        "id": "I6V3bZs3ErNG",
        "outputId": "7a9c3891-079d-48bf-976b-18f8c47e8398"
      },
      "execution_count": 4,
      "outputs": [
        {
          "output_type": "stream",
          "name": "stdout",
          "text": [
            "3.7.13 (default, Apr 24 2022, 01:04:09) \n",
            "[GCC 7.5.0]\n",
            "3.7.13\n"
          ]
        }
      ]
    },
    {
      "cell_type": "markdown",
      "source": [
        "*Use of print statement*"
      ],
      "metadata": {
        "id": "6NbmlnogHc6E"
      }
    },
    {
      "cell_type": "code",
      "source": [
        "age=20\n",
        "print(\"I am %d years old.\"%(age))"
      ],
      "metadata": {
        "colab": {
          "base_uri": "https://localhost:8080/"
        },
        "id": "tbJw_7eZHJJf",
        "outputId": "a77bac35-4229-4e40-8f47-6cd1082f9441"
      },
      "execution_count": 5,
      "outputs": [
        {
          "output_type": "stream",
          "name": "stdout",
          "text": [
            "I am 20 years old.\n"
          ]
        }
      ]
    },
    {
      "cell_type": "code",
      "source": [
        "age=20\n",
        "print(\"I am {} years old.\".format(age))"
      ],
      "metadata": {
        "colab": {
          "base_uri": "https://localhost:8080/"
        },
        "id": "3Z2TstibHuND",
        "outputId": "9e11560f-7798-4c00-e407-ac24a8b49f53"
      },
      "execution_count": 6,
      "outputs": [
        {
          "output_type": "stream",
          "name": "stdout",
          "text": [
            "I am 20 years old.\n"
          ]
        }
      ]
    },
    {
      "cell_type": "code",
      "source": [
        "age=20\n",
        "print(f\"I am {age} years old.\")"
      ],
      "metadata": {
        "colab": {
          "base_uri": "https://localhost:8080/"
        },
        "id": "1fzLdaulIGb4",
        "outputId": "1adc8ef7-efcc-48f8-fba9-7df14ddddd47"
      },
      "execution_count": 7,
      "outputs": [
        {
          "output_type": "stream",
          "name": "stdout",
          "text": [
            "I am 20 years old.\n"
          ]
        }
      ]
    },
    {
      "cell_type": "code",
      "source": [
        "language=\"python\"\n",
        "version=\"3.7\"\n",
        "print(f\"I am learning {language} version {version}\")"
      ],
      "metadata": {
        "colab": {
          "base_uri": "https://localhost:8080/"
        },
        "id": "bdRzeJqyIcyy",
        "outputId": "933c4c21-51d2-4426-82fb-4cb14e16e6c1"
      },
      "execution_count": 8,
      "outputs": [
        {
          "output_type": "stream",
          "name": "stdout",
          "text": [
            "I am learning python version 3.7\n"
          ]
        }
      ]
    }
  ]
}
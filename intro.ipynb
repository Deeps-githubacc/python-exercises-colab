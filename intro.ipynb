{
  "nbformat": 4,
  "nbformat_minor": 0,
  "metadata": {
    "colab": {
      "name": "intro.ipynb",
      "provenance": [],
      "collapsed_sections": [],
      "authorship_tag": "ABX9TyPITdBGuHI4BsJ+UUJtPVXn",
      "include_colab_link": true
    },
    "kernelspec": {
      "name": "python3",
      "display_name": "Python 3"
    },
    "language_info": {
      "name": "python"
    }
  },
  "cells": [
    {
      "cell_type": "markdown",
      "metadata": {
        "id": "view-in-github",
        "colab_type": "text"
      },
      "source": [
        "<a href=\"https://colab.research.google.com/github/Deeps-githubacc/python-exercises-colab/blob/main/intro.ipynb\" target=\"_parent\"><img src=\"https://colab.research.google.com/assets/colab-badge.svg\" alt=\"Open In Colab\"/></a>"
      ]
    },
    {
      "cell_type": "markdown",
      "source": [
        "###Basics"
      ],
      "metadata": {
        "id": "NrdXgBNSCZz1"
      }
    },
    {
      "cell_type": "code",
      "execution_count": null,
      "metadata": {
        "colab": {
          "base_uri": "https://localhost:8080/"
        },
        "id": "d27HWf3V_Kc_",
        "outputId": "f75b8bec-4ff0-431d-f179-04a202cd8a32"
      },
      "outputs": [
        {
          "output_type": "stream",
          "name": "stdout",
          "text": [
            "Hello world! welcome to python exercise repo\n"
          ]
        }
      ],
      "source": [
        "print(\"Hello world! welcome to python exercise repo\")\n"
      ]
    },
    {
      "cell_type": "markdown",
      "source": [
        "***To check python version***"
      ],
      "metadata": {
        "id": "ArGbwbHmEb9m"
      }
    },
    {
      "cell_type": "code",
      "source": [
        "import sys\n",
        "print(sys.version)\n",
        "print(sys.version.split()[0]) ##more readable form"
      ],
      "metadata": {
        "colab": {
          "base_uri": "https://localhost:8080/"
        },
        "id": "I6V3bZs3ErNG",
        "outputId": "7a9c3891-079d-48bf-976b-18f8c47e8398"
      },
      "execution_count": null,
      "outputs": [
        {
          "output_type": "stream",
          "name": "stdout",
          "text": [
            "3.7.13 (default, Apr 24 2022, 01:04:09) \n",
            "[GCC 7.5.0]\n",
            "3.7.13\n"
          ]
        }
      ]
    },
    {
      "cell_type": "markdown",
      "source": [
        "***Use of print statement***"
      ],
      "metadata": {
        "id": "6NbmlnogHc6E"
      }
    },
    {
      "cell_type": "code",
      "source": [
        "age=20\n",
        "print(\"I am %d years old.\"%(age))"
      ],
      "metadata": {
        "colab": {
          "base_uri": "https://localhost:8080/"
        },
        "id": "tbJw_7eZHJJf",
        "outputId": "a77bac35-4229-4e40-8f47-6cd1082f9441"
      },
      "execution_count": null,
      "outputs": [
        {
          "output_type": "stream",
          "name": "stdout",
          "text": [
            "I am 20 years old.\n"
          ]
        }
      ]
    },
    {
      "cell_type": "code",
      "source": [
        "age=20\n",
        "print(\"I am {} years old.\".format(age))"
      ],
      "metadata": {
        "colab": {
          "base_uri": "https://localhost:8080/"
        },
        "id": "3Z2TstibHuND",
        "outputId": "9e11560f-7798-4c00-e407-ac24a8b49f53"
      },
      "execution_count": null,
      "outputs": [
        {
          "output_type": "stream",
          "name": "stdout",
          "text": [
            "I am 20 years old.\n"
          ]
        }
      ]
    },
    {
      "cell_type": "code",
      "source": [
        "age=20\n",
        "print(f\"I am {age} years old.\")"
      ],
      "metadata": {
        "colab": {
          "base_uri": "https://localhost:8080/"
        },
        "id": "1fzLdaulIGb4",
        "outputId": "1adc8ef7-efcc-48f8-fba9-7df14ddddd47"
      },
      "execution_count": null,
      "outputs": [
        {
          "output_type": "stream",
          "name": "stdout",
          "text": [
            "I am 20 years old.\n"
          ]
        }
      ]
    },
    {
      "cell_type": "code",
      "source": [
        "language=\"python\"\n",
        "versions=\"3.7\"\n",
        "print(f\"I am learning {language} version {versions}\")"
      ],
      "metadata": {
        "colab": {
          "base_uri": "https://localhost:8080/"
        },
        "id": "bdRzeJqyIcyy",
        "outputId": "ef514735-e007-4442-c24a-5279ba0963a6"
      },
      "execution_count": null,
      "outputs": [
        {
          "output_type": "stream",
          "name": "stdout",
          "text": [
            "I am learning python version 3.7\n"
          ]
        }
      ]
    },
    {
      "cell_type": "code",
      "source": [
        "price=34.99\n",
        "weight=20\n",
        "print(f\"Price: ${price}. Weight: {weight} lbs.\")"
      ],
      "metadata": {
        "colab": {
          "base_uri": "https://localhost:8080/"
        },
        "id": "sWJMXOdiKOWN",
        "outputId": "df205f7b-15a6-4e55-9470-1a49131398ca"
      },
      "execution_count": null,
      "outputs": [
        {
          "output_type": "stream",
          "name": "stdout",
          "text": [
            "Price: $34.99. Weight: 20 lbs.\n"
          ]
        }
      ]
    },
    {
      "cell_type": "code",
      "source": [
        "from math import pi\n",
        "print(f'Pi: {pi:.2f}')\n"
      ],
      "metadata": {
        "colab": {
          "base_uri": "https://localhost:8080/"
        },
        "id": "LdIL-Uj3LgGe",
        "outputId": "398bb3d9-c7a2-4f14-febc-cb1d32ac1ba3"
      },
      "execution_count": null,
      "outputs": [
        {
          "output_type": "stream",
          "name": "stdout",
          "text": [
            "Pi: 3.14\n"
          ]
        }
      ]
    },
    {
      "cell_type": "code",
      "source": [
        "print(\"-\"*40)\n",
        "print(\"VERSION: 1.0.1\")\n",
        "print(\"-\"*40)\n"
      ],
      "metadata": {
        "colab": {
          "base_uri": "https://localhost:8080/"
        },
        "id": "JDIJM0bRMzgP",
        "outputId": "6c038573-55ad-42b0-dc27-1e229a1c4f2d"
      },
      "execution_count": null,
      "outputs": [
        {
          "output_type": "stream",
          "name": "stdout",
          "text": [
            "----------------------------------------\n",
            "VERSION: 1.0.1\n",
            "----------------------------------------\n"
          ]
        }
      ]
    },
    {
      "cell_type": "code",
      "source": [
        "print(\"=\"*40)\n",
        "print(\"author: johnsmith@sample.com\")\n",
        "print(\"date: 01-01-2021\")\n",
        "print(\"=\"*40)\n"
      ],
      "metadata": {
        "colab": {
          "base_uri": "https://localhost:8080/"
        },
        "id": "QatXeRCaOMQq",
        "outputId": "034ca64b-e342-4f73-b68e-ad3b1d4cc725"
      },
      "execution_count": null,
      "outputs": [
        {
          "output_type": "stream",
          "name": "stdout",
          "text": [
            "========================================\n",
            "author: johnsmith@sample.com\n",
            "date: 01-01-2021\n",
            "========================================\n"
          ]
        }
      ]
    },
    {
      "cell_type": "code",
      "source": [
        "string=\"summer time holiday\"\n",
        "print(string.replace(\" \",\"#\"))\n",
        "print('summer','time','holiday', sep='#')"
      ],
      "metadata": {
        "colab": {
          "base_uri": "https://localhost:8080/"
        },
        "id": "XwQwXX0kO85g",
        "outputId": "bf8c9e1e-bb58-4fc7-8dc1-17d962279c8e"
      },
      "execution_count": null,
      "outputs": [
        {
          "output_type": "stream",
          "name": "stdout",
          "text": [
            "summer#time#holiday\n",
            "summer#time#holiday\n"
          ]
        }
      ]
    },
    {
      "cell_type": "markdown",
      "source": [
        "***Calculations in python***\n"
      ],
      "metadata": {
        "id": "tYc5_35tQJP2"
      }
    },
    {
      "cell_type": "code",
      "source": [
        "from math import pi\n",
        "radius = 5\n",
        "pi = 3.14\n",
        "area = pi * radius ** 2\n",
        "print(f'Area: {area:.1f}')\n"
      ],
      "metadata": {
        "colab": {
          "base_uri": "https://localhost:8080/"
        },
        "id": "gkVz5J0Yig-t",
        "outputId": "0866072e-f065-458b-f8e4-a5c828c4e77c"
      },
      "execution_count": null,
      "outputs": [
        {
          "output_type": "stream",
          "name": "stdout",
          "text": [
            "Area: 78.5\n"
          ]
        }
      ]
    },
    {
      "cell_type": "code",
      "source": [
        "principle =1000\n",
        "rate=0.03\n",
        "time=5\n",
        "finalvalue= principle * (1+ rate) ** time\n",
        "print(f'The future value of the investment: {finalvalue:.2f} USD')\n"
      ],
      "metadata": {
        "colab": {
          "base_uri": "https://localhost:8080/"
        },
        "id": "BIsmp_ZIlFi6",
        "outputId": "d0fa566b-aeb9-42fc-afbb-a912085883b7"
      },
      "execution_count": null,
      "outputs": [
        {
          "output_type": "stream",
          "name": "stdout",
          "text": [
            "The future value of the investment: 1159.27 USD\n"
          ]
        }
      ]
    },
    {
      "cell_type": "markdown",
      "source": [
        "delta value for the eq: 3x2-4x+1=0"
      ],
      "metadata": {
        "id": "G0_sGqStmXyY"
      }
    },
    {
      "cell_type": "code",
      "source": [
        "a=3\n",
        "b=-4\n",
        "c=1\n",
        "delta= (b**2) - (4*a*c)\n",
        "print(f'Delta: {delta}')"
      ],
      "metadata": {
        "colab": {
          "base_uri": "https://localhost:8080/"
        },
        "id": "Bz7rb2tYl_jS",
        "outputId": "df0258dd-de88-48c7-e675-012877ca24ab"
      },
      "execution_count": null,
      "outputs": [
        {
          "output_type": "stream",
          "name": "stdout",
          "text": [
            "Delta: 4\n"
          ]
        }
      ]
    },
    {
      "cell_type": "markdown",
      "source": [
        "***String slicing***"
      ],
      "metadata": {
        "id": "BkwjA6atn92u"
      }
    },
    {
      "cell_type": "code",
      "source": [
        "filename=\"view.jpg\"\n",
        "print(filename[-3:])"
      ],
      "metadata": {
        "colab": {
          "base_uri": "https://localhost:8080/"
        },
        "id": "KeCWDZShfwJB",
        "outputId": "daf9d2a2-45aa-4cdf-b33d-ea26791ee5bb"
      },
      "execution_count": null,
      "outputs": [
        {
          "output_type": "stream",
          "name": "stdout",
          "text": [
            "jpg\n"
          ]
        }
      ]
    },
    {
      "cell_type": "code",
      "source": [
        "string = 'PKV-89415-PLN'\n",
        "code= string[0:3]+string[-3:]\n",
        "print(code)"
      ],
      "metadata": {
        "colab": {
          "base_uri": "https://localhost:8080/"
        },
        "id": "pJTmI56vhxNs",
        "outputId": "cf022214-f69b-431e-eb97-20f94389f4f3"
      },
      "execution_count": null,
      "outputs": [
        {
          "output_type": "stream",
          "name": "stdout",
          "text": [
            "PKVPLN\n"
          ]
        }
      ]
    },
    {
      "cell_type": "code",
      "source": [
        "string = '1 0 0 1 0 1'\n",
        "num = string.replace(\" \",\"\")\n",
        "print(\"Number found: %d\"%(int(num,2)))\n"
      ],
      "metadata": {
        "colab": {
          "base_uri": "https://localhost:8080/"
        },
        "id": "Raaofrv3i3BM",
        "outputId": "04ff47bc-7760-41a2-9a07-1ba23b0069db"
      },
      "execution_count": null,
      "outputs": [
        {
          "output_type": "stream",
          "name": "stdout",
          "text": [
            "Number found: 37\n"
          ]
        }
      ]
    },
    {
      "cell_type": "code",
      "source": [
        "text = 'Python Course'\n",
        "print(text[::-1])"
      ],
      "metadata": {
        "colab": {
          "base_uri": "https://localhost:8080/"
        },
        "id": "nMXnKEAloPLs",
        "outputId": "82379d7a-4bc9-4e16-9880-a80e3801417c"
      },
      "execution_count": null,
      "outputs": [
        {
          "output_type": "stream",
          "name": "stdout",
          "text": [
            "esruoC nohtyP\n"
          ]
        }
      ]
    },
    {
      "cell_type": "code",
      "source": [
        "var1 = ''\n",
        "var2 = ' '\n",
        "var3 = '\\n'\n",
        "print(type(var1))\n",
        "print(type(var2))\n",
        "print(type(var3))"
      ],
      "metadata": {
        "colab": {
          "base_uri": "https://localhost:8080/"
        },
        "id": "OE7-b1Azp2mH",
        "outputId": "15259c77-3d84-4ed6-871b-965e60c96d51"
      },
      "execution_count": null,
      "outputs": [
        {
          "output_type": "stream",
          "name": "stdout",
          "text": [
            "<class 'str'>\n",
            "<class 'str'>\n",
            "<class 'str'>\n"
          ]
        }
      ]
    },
    {
      "cell_type": "code",
      "source": [
        "var1 = None\n",
        "var2 = False\n",
        "var3 = 'True'\n",
        " \n",
        "print(type(var1))\n",
        "print(type(var2))\n",
        "print(type(var3))"
      ],
      "metadata": {
        "colab": {
          "base_uri": "https://localhost:8080/"
        },
        "id": "X7pUoMcBqLSO",
        "outputId": "e3f93859-50db-47df-cfe2-315b8cfeaf98"
      },
      "execution_count": null,
      "outputs": [
        {
          "output_type": "stream",
          "name": "stdout",
          "text": [
            "<class 'NoneType'>\n",
            "<class 'bool'>\n",
            "<class 'str'>\n"
          ]
        }
      ]
    },
    {
      "cell_type": "code",
      "source": [
        "flag = False\n",
        "print(isinstance(flag,bool))"
      ],
      "metadata": {
        "colab": {
          "base_uri": "https://localhost:8080/"
        },
        "id": "RtgPKpmlq84W",
        "outputId": "906fdd44-c347-46da-9975-3fae727cc59a"
      },
      "execution_count": null,
      "outputs": [
        {
          "output_type": "stream",
          "name": "stdout",
          "text": [
            "True\n"
          ]
        }
      ]
    },
    {
      "cell_type": "code",
      "source": [
        "text = 'python is a popular programming language.'\n",
        "print(text.capitalize())"
      ],
      "metadata": {
        "colab": {
          "base_uri": "https://localhost:8080/"
        },
        "id": "qCjvxPFerujI",
        "outputId": "da723af0-e22d-430c-87bd-f2ff1dae685d"
      },
      "execution_count": null,
      "outputs": [
        {
          "output_type": "stream",
          "name": "stdout",
          "text": [
            "Python is a popular programming language.\n"
          ]
        }
      ]
    },
    {
      "cell_type": "code",
      "source": [
        "text = 'python is a popular programming language.'\n",
        "print(\"Number of occurrences: %s\"%(text.count(\"p\")))"
      ],
      "metadata": {
        "colab": {
          "base_uri": "https://localhost:8080/"
        },
        "id": "yX6MUMizsQJV",
        "outputId": "03b48902-b8d6-4a02-ea45-83b52b7a4891"
      },
      "execution_count": null,
      "outputs": [
        {
          "output_type": "stream",
          "name": "stdout",
          "text": [
            "Number of occurrences: 4\n"
          ]
        }
      ]
    },
    {
      "cell_type": "code",
      "source": [
        "code1 = 'FVNISJND-XX-2020'\n",
        "code2 = 'FVNISJND-XY-2019'\n",
        "print(\"code1: %s\"%(code1.endswith(\"2020\")))\n",
        "print(\"code2: %s\"%(code2.endswith(\"2020\")))"
      ],
      "metadata": {
        "colab": {
          "base_uri": "https://localhost:8080/"
        },
        "id": "5emWgZUXs9vb",
        "outputId": "b2a25080-c9a4-4b3f-973e-b7de7074b447"
      },
      "execution_count": null,
      "outputs": [
        {
          "output_type": "stream",
          "name": "stdout",
          "text": [
            "code1: True\n",
            "code2: False\n"
          ]
        }
      ]
    },
    {
      "cell_type": "code",
      "source": [
        "path1 = 'youtube.com/watch?v=5EhRztVxums'\n",
        "path2 = 'google.com/search?q=car'\n",
        "print(\"path1: %s\"%(path1.startswith(\"youtube\")))\n",
        "print(\"path2: %s\"%(path2.startswith(\"youtube\")))"
      ],
      "metadata": {
        "colab": {
          "base_uri": "https://localhost:8080/"
        },
        "id": "PfyQTyQrtnTd",
        "outputId": "e1ffb285-595f-4437-e843-c0f8f5798942"
      },
      "execution_count": null,
      "outputs": [
        {
          "output_type": "stream",
          "name": "stdout",
          "text": [
            "path1: True\n",
            "path2: False\n"
          ]
        }
      ]
    },
    {
      "cell_type": "code",
      "source": [
        "path1 = 'https://e-smartdata.teachable.com/p/sciezka-data-scientist-machine-learning-engineer'\n",
        "path2 = 'https://e-smartdata.teachable.com/p/sciezka-data-scientist-deep-learning-engineer'\n",
        "path3 = 'https://e-smartdata.teachable.com/p/sciezka-bi-analyst-data-analyst'\n",
        "print(\"path1: %s\"%(path1.find(\"scientist\")))\n",
        "print(\"path2: %s\"%(path2.find(\"scientist\")))\n",
        "print(\"path3: %s\"%(path3.find(\"scientist\")))"
      ],
      "metadata": {
        "colab": {
          "base_uri": "https://localhost:8080/"
        },
        "id": "hmXwCXj7uWfp",
        "outputId": "45e22c1d-5c18-4ce1-877f-e73c5dc833f3"
      },
      "execution_count": null,
      "outputs": [
        {
          "output_type": "stream",
          "name": "stdout",
          "text": [
            "path1: 49\n",
            "path2: 49\n",
            "path3: -1\n"
          ]
        }
      ]
    },
    {
      "cell_type": "code",
      "source": [
        "code1 = 'FVNISJND-20'\n",
        "code2 = 'FVNISJND20'\n",
        "print(\"code1: %s\"%(code1.isalnum()))\n",
        "print(\"code2: %s\"%(code2.isalnum()))"
      ],
      "metadata": {
        "colab": {
          "base_uri": "https://localhost:8080/"
        },
        "id": "vyAbGTk8y6uV",
        "outputId": "21c66a2d-7250-4c45-ac92-2688a5b62183"
      },
      "execution_count": null,
      "outputs": [
        {
          "output_type": "stream",
          "name": "stdout",
          "text": [
            "code1: False\n",
            "code2: True\n"
          ]
        }
      ]
    },
    {
      "cell_type": "code",
      "source": [
        "text = 'Google Colab'\n",
        "print(text.lower())\n",
        "print(text.upper())"
      ],
      "metadata": {
        "colab": {
          "base_uri": "https://localhost:8080/"
        },
        "id": "_16Ky7hDz8MU",
        "outputId": "3dc8d889-bab8-421a-c69a-829b49ba85c4"
      },
      "execution_count": null,
      "outputs": [
        {
          "output_type": "stream",
          "name": "stdout",
          "text": [
            "google colab\n",
            "GOOGLE COLAB\n"
          ]
        }
      ]
    },
    {
      "cell_type": "code",
      "source": [
        "text = '  Google Colab   '\n",
        "text1 = text.lstrip()\n",
        "text2 = text1.rstrip()\n",
        "print(text2)"
      ],
      "metadata": {
        "colab": {
          "base_uri": "https://localhost:8080/"
        },
        "id": "9TDVmXqp0X76",
        "outputId": "fb24ef82-31be-45fa-8884-2c010a14cd5e"
      },
      "execution_count": null,
      "outputs": [
        {
          "output_type": "stream",
          "name": "stdout",
          "text": [
            "Google Colab\n"
          ]
        }
      ]
    },
    {
      "cell_type": "code",
      "source": [
        "code = 'FVNISJND-XX'\n",
        "print(code.replace(\"-\",\" \"))"
      ],
      "metadata": {
        "colab": {
          "base_uri": "https://localhost:8080/"
        },
        "id": "RBRWJ-S_1pmx",
        "outputId": "fea9a991-0aa2-4bb5-b78c-c6f028372d63"
      },
      "execution_count": null,
      "outputs": [
        {
          "output_type": "stream",
          "name": "stdout",
          "text": [
            "FVNISJND XX\n"
          ]
        }
      ]
    },
    {
      "cell_type": "code",
      "source": [
        "text = '340-23-245-235'\n",
        "print(text.replace(\"-\",\"\"))"
      ],
      "metadata": {
        "colab": {
          "base_uri": "https://localhost:8080/"
        },
        "id": "OlDWbP-C2ai1",
        "outputId": "f355f8b0-2516-4f62-8012-37ff8ee82308"
      },
      "execution_count": null,
      "outputs": [
        {
          "output_type": "stream",
          "name": "stdout",
          "text": [
            "34023245235\n"
          ]
        }
      ]
    },
    {
      "cell_type": "code",
      "source": [
        "text = 'Open,High,Low,Close'\n",
        "print(text.split(','))"
      ],
      "metadata": {
        "colab": {
          "base_uri": "https://localhost:8080/"
        },
        "id": "y8Kf5VyaS9rC",
        "outputId": "acac6e61-28ac-4eaf-f8a7-05e00b625800"
      },
      "execution_count": null,
      "outputs": [
        {
          "output_type": "stream",
          "name": "stdout",
          "text": [
            "['Open', 'High', 'Low', 'Close']\n"
          ]
        }
      ]
    },
    {
      "cell_type": "code",
      "source": [
        "text = \"\"\"Python is a general-purpose language.\n",
        "Python is popular.\"\"\"\n",
        "print(text.split(\"\\n\"))"
      ],
      "metadata": {
        "colab": {
          "base_uri": "https://localhost:8080/"
        },
        "id": "YANposXETYoh",
        "outputId": "e1479a4c-63aa-4b1d-f1c4-05b47bf2ca47"
      },
      "execution_count": null,
      "outputs": [
        {
          "output_type": "stream",
          "name": "stdout",
          "text": [
            "['Python is a general-purpose language.', 'Python is popular.']\n"
          ]
        }
      ]
    },
    {
      "cell_type": "code",
      "source": [
        "num = 34\n",
        "print(str(num).zfill(6))"
      ],
      "metadata": {
        "colab": {
          "base_uri": "https://localhost:8080/"
        },
        "id": "bU3U5Tq1VRVO",
        "outputId": "c30157d8-0681-4017-a6e2-2f475048f4d7"
      },
      "execution_count": null,
      "outputs": [
        {
          "output_type": "stream",
          "name": "stdout",
          "text": [
            "000034\n"
          ]
        }
      ]
    },
    {
      "cell_type": "code",
      "source": [
        "url = 'https://e-smartdata.teachable.com/p/sciezka-data-scientist-machine-learning-engineer'\n",
        "string = url.split('/')[-1]\n",
        "print(string.replace(\"-\",\" \"))\n"
      ],
      "metadata": {
        "colab": {
          "base_uri": "https://localhost:8080/"
        },
        "id": "lJRQUmeCW-JF",
        "outputId": "1dce6b20-4a88-48de-875d-cdc023bd0d92"
      },
      "execution_count": null,
      "outputs": [
        {
          "output_type": "stream",
          "name": "stdout",
          "text": [
            "sciezka data scientist machine learning engineer\n"
          ]
        }
      ]
    },
    {
      "cell_type": "markdown",
      "source": [
        "###Data Structures\n"
      ],
      "metadata": {
        "id": "2kJyDlvyZ4B6"
      }
    },
    {
      "cell_type": "code",
      "source": [
        "subjects = {'mathematics', 'biology'}\n",
        "subjects.add('english')\n",
        "print(subjects)"
      ],
      "metadata": {
        "colab": {
          "base_uri": "https://localhost:8080/"
        },
        "id": "MCozaGIwavRW",
        "outputId": "7d7bdbac-1459-4145-bf10-a88b80b4d064"
      },
      "execution_count": null,
      "outputs": [
        {
          "output_type": "stream",
          "name": "stdout",
          "text": [
            "{'english', 'mathematics', 'biology'}\n"
          ]
        }
      ]
    },
    {
      "cell_type": "code",
      "source": [
        "text = 'Programming in python.'\n",
        "vowels = {'a', 'e', 'i', 'o', 'u'}\n",
        "text = text.lower().replace(\" \",\"\")\n",
        "text = text.replace(\".\",\"\")\n",
        "letters =set(text).difference(vowels)\n",
        "print(\"Number of items: %s\"%(len(letters)))"
      ],
      "metadata": {
        "colab": {
          "base_uri": "https://localhost:8080/"
        },
        "id": "BdiDnI0VcHhU",
        "outputId": "bca4516e-1b97-41a2-d69f-fbc23260d1d8"
      },
      "execution_count": null,
      "outputs": [
        {
          "output_type": "stream",
          "name": "stdout",
          "text": [
            "Number of items: 8\n"
          ]
        }
      ]
    },
    {
      "cell_type": "code",
      "source": [
        "A = {2, 4, 6, 8}\n",
        "B = {4, 10}\n",
        "print(\"Symmetric difference: %s\"%(A.symmetric_difference(B)))"
      ],
      "metadata": {
        "colab": {
          "base_uri": "https://localhost:8080/"
        },
        "id": "3F6kCxd_frPA",
        "outputId": "9df2ae2d-5427-4519-c5c5-0e5ce5144aac"
      },
      "execution_count": null,
      "outputs": [
        {
          "output_type": "stream",
          "name": "stdout",
          "text": [
            "Symmetric difference: {2, 6, 8, 10}\n"
          ]
        }
      ]
    },
    {
      "cell_type": "code",
      "source": [
        "ad1_id = {'001', '002', '003'}\n",
        "ad2_id = {'002', '003', '007'}\n",
        "print(\"Selected ID: %s\"%(ad1_id.symmetric_difference(ad2_id)))"
      ],
      "metadata": {
        "colab": {
          "base_uri": "https://localhost:8080/"
        },
        "id": "Zj5fG4zvlI3f",
        "outputId": "92f2210a-ffd6-4e76-a97a-2ce55e63a945"
      },
      "execution_count": null,
      "outputs": [
        {
          "output_type": "stream",
          "name": "stdout",
          "text": [
            "Selected ID: {'001', '007'}\n"
          ]
        }
      ]
    },
    {
      "cell_type": "code",
      "source": [
        "is_clicked = {'9001', '9002', '9005'}\n",
        "is_bought = {'9002', '9004', '9005'}\n",
        "print(\"Customer ID: %s\"%(is_clicked.intersection(is_bought)))"
      ],
      "metadata": {
        "colab": {
          "base_uri": "https://localhost:8080/"
        },
        "id": "HycSmEZbl4cm",
        "outputId": "67205b25-c978-427f-b6f3-fb80292184e7"
      },
      "execution_count": null,
      "outputs": [
        {
          "output_type": "stream",
          "name": "stdout",
          "text": [
            "Customer ID: {'9005', '9002'}\n"
          ]
        }
      ]
    },
    {
      "cell_type": "code",
      "source": [
        "dji1 = ('AAPL.US', 'IBM.US', 'MSFT.US')\n",
        "dji2 = ('HD.US', 'GS.US', 'NKE.US')\n",
        "com = dji1 +dji2\n",
        "print(com)"
      ],
      "metadata": {
        "colab": {
          "base_uri": "https://localhost:8080/"
        },
        "id": "dO6MgogeCV25",
        "outputId": "fdd9dae6-33a6-481a-95ea-9978e18d3f7a"
      },
      "execution_count": null,
      "outputs": [
        {
          "output_type": "stream",
          "name": "stdout",
          "text": [
            "('AAPL.US', 'IBM.US', 'MSFT.US', 'HD.US', 'GS.US', 'NKE.US')\n"
          ]
        }
      ]
    },
    {
      "cell_type": "code",
      "source": [
        "dji1 = ('AAPL.US', 'IBM.US', 'MSFT.US')\n",
        "dji2 = ('HD.US', 'GS.US', 'NKE.US')\n",
        "nest=(dji1,dji2)\n",
        "print(nest)"
      ],
      "metadata": {
        "colab": {
          "base_uri": "https://localhost:8080/"
        },
        "id": "fQY-gIjzC5Qk",
        "outputId": "451540fe-d1e6-4b8a-c31e-841a2ceb1840"
      },
      "execution_count": null,
      "outputs": [
        {
          "output_type": "stream",
          "name": "stdout",
          "text": [
            "(('AAPL.US', 'IBM.US', 'MSFT.US'), ('HD.US', 'GS.US', 'NKE.US'))\n"
          ]
        }
      ]
    },
    {
      "cell_type": "code",
      "source": [
        "members = (('Kate', 23), ('Tom', 19))\n",
        "members=(members[0],('John',26),members[1])\n",
        "print(members)"
      ],
      "metadata": {
        "colab": {
          "base_uri": "https://localhost:8080/"
        },
        "id": "1Kzx287aD-28",
        "outputId": "536d7f30-9e51-415b-b4c0-b8f378fc763c"
      },
      "execution_count": null,
      "outputs": [
        {
          "output_type": "stream",
          "name": "stdout",
          "text": [
            "(('Kate', 23), ('John', 26), ('Tom', 19))\n"
          ]
        }
      ]
    },
    {
      "cell_type": "code",
      "source": [
        "default = ('YES', 'NO', 'NO', 'YES', 'NO')\n",
        "print(\"Number of occurrences: %s\"%(default.count('YES')))"
      ],
      "metadata": {
        "colab": {
          "base_uri": "https://localhost:8080/"
        },
        "id": "OH1j1sggSqCA",
        "outputId": "6a545c75-ad77-4b47-9cd6-44c46115f678"
      },
      "execution_count": null,
      "outputs": [
        {
          "output_type": "stream",
          "name": "stdout",
          "text": [
            "Number of occurrences: 2\n"
          ]
        }
      ]
    },
    {
      "cell_type": "code",
      "source": [
        "names = ('Monica', 'Tom', 'John', 'Michael')\n",
        "print(tuple(sorted(names)))\n"
      ],
      "metadata": {
        "colab": {
          "base_uri": "https://localhost:8080/"
        },
        "id": "njLbTrhCUBwd",
        "outputId": "efcfebe9-6a88-4aeb-bd2d-b37076a44a28"
      },
      "execution_count": null,
      "outputs": [
        {
          "output_type": "stream",
          "name": "stdout",
          "text": [
            "('John', 'Michael', 'Monica', 'Tom')\n"
          ]
        }
      ]
    },
    {
      "cell_type": "code",
      "source": [
        "info = (('Monica', 19), ('Tom', 21), ('John', 18))\n",
        "ascending = tuple(sorted(info))\n",
        "descending = tuple(sorted(info, reverse= True))\n",
        "print(f\"Ascending: {ascending}\")\n",
        "print(f\"Descending: {descending}\")"
      ],
      "metadata": {
        "colab": {
          "base_uri": "https://localhost:8080/"
        },
        "id": "omBNBn_KWeKR",
        "outputId": "3c60beb4-7fbd-4634-8ba0-5361599c642b"
      },
      "execution_count": null,
      "outputs": [
        {
          "output_type": "stream",
          "name": "stdout",
          "text": [
            "Ascending: (('John', 18), ('Monica', 19), ('Tom', 21))\n",
            "Descending: (('Tom', 21), ('Monica', 19), ('John', 18))\n"
          ]
        }
      ]
    },
    {
      "cell_type": "code",
      "source": [
        "stocks = (('Apple Inc', ('AAPL.US', 310)), ('Microsoft Corp', ('MSFT.US', 184)))\n",
        "print(stocks[0][1][0])"
      ],
      "metadata": {
        "colab": {
          "base_uri": "https://localhost:8080/"
        },
        "id": "3h2oiZFAZxJc",
        "outputId": "93eb906f-c9ef-41b8-b575-4c77827ebc4d"
      },
      "execution_count": null,
      "outputs": [
        {
          "output_type": "stream",
          "name": "stdout",
          "text": [
            "AAPL.US\n"
          ]
        }
      ]
    },
    {
      "cell_type": "code",
      "source": [
        "cities = ['Los Angeles', 'New York', 'Chicago']\n",
        "cities.append('Houston')\n",
        "print(cities)"
      ],
      "metadata": {
        "colab": {
          "base_uri": "https://localhost:8080/"
        },
        "id": "p-i2aRJ3aV57",
        "outputId": "e6b937b4-ae4a-479e-d51f-4a5b94adc0ee"
      },
      "execution_count": null,
      "outputs": [
        {
          "output_type": "stream",
          "name": "stdout",
          "text": [
            "['Los Angeles', 'New York', 'Chicago', 'Houston']\n"
          ]
        }
      ]
    },
    {
      "cell_type": "code",
      "source": [
        "idx = ['001', '002', '001', '003', '001']\n",
        "print(\"Number of occurrences: %s\"%(idx.count('001')))"
      ],
      "metadata": {
        "colab": {
          "base_uri": "https://localhost:8080/"
        },
        "id": "AwYhs9Oza4pt",
        "outputId": "7622a8fe-a4c2-41e1-d132-544d0379e348"
      },
      "execution_count": null,
      "outputs": [
        {
          "output_type": "stream",
          "name": "stdout",
          "text": [
            "Number of occurrences: 3\n"
          ]
        }
      ]
    },
    {
      "cell_type": "code",
      "source": [
        "text = 'Python programming'\n",
        "text_modified= list(set((text.lower()).replace(\" \",\"\")))\n",
        "print(sorted(text_modified))"
      ],
      "metadata": {
        "colab": {
          "base_uri": "https://localhost:8080/"
        },
        "id": "GE9LnOWSbw-T",
        "outputId": "995a303b-fef7-4d63-9272-ac55ff59ccf7"
      },
      "execution_count": null,
      "outputs": [
        {
          "output_type": "stream",
          "name": "stdout",
          "text": [
            "['a', 'g', 'h', 'i', 'm', 'n', 'o', 'p', 'r', 't', 'y']\n"
          ]
        }
      ]
    },
    {
      "cell_type": "code",
      "source": [
        "filenames = ['view.jpg', 'bear.jpg', 'ball.png']\n",
        "filenames.insert(0,'phone.jpg')\n",
        "filenames.remove('ball.png')\n",
        "print(filenames)"
      ],
      "metadata": {
        "colab": {
          "base_uri": "https://localhost:8080/"
        },
        "id": "gtCWUiBke_Oo",
        "outputId": "555e0087-1388-49f7-af5b-0d4ad70e2ac3"
      },
      "execution_count": null,
      "outputs": [
        {
          "output_type": "stream",
          "name": "stdout",
          "text": [
            "['phone.jpg', 'view.jpg', 'bear.jpg']\n"
          ]
        }
      ]
    },
    {
      "cell_type": "code",
      "source": [
        "day1 = ['3984', '9042', '4829', '2380']\n",
        "day2 = ['4231', '5234', '1345', '2455']\n",
        "day1.extend(day2)\n",
        "print(day1)\n",
        "print(day2)"
      ],
      "metadata": {
        "colab": {
          "base_uri": "https://localhost:8080/"
        },
        "id": "xNqVlVdIg--D",
        "outputId": "5d93a739-8554-4b8f-90eb-69e40c125543"
      },
      "execution_count": null,
      "outputs": [
        {
          "output_type": "stream",
          "name": "stdout",
          "text": [
            "['3984', '9042', '4829', '2380', '4231', '5234', '1345', '2455']\n",
            "['4231', '5234', '1345', '2455']\n"
          ]
        }
      ]
    },
    {
      "cell_type": "code",
      "source": [
        "techs = ('python', 'java', 'sql', 'aws')\n",
        "print(tuple(sorted(techs)))\n"
      ],
      "metadata": {
        "colab": {
          "base_uri": "https://localhost:8080/"
        },
        "id": "_0DcEkwCi-Md",
        "outputId": "dffc8150-7c0b-4193-e781-f35a48800b75"
      },
      "execution_count": null,
      "outputs": [
        {
          "output_type": "stream",
          "name": "stdout",
          "text": [
            "('aws', 'java', 'python', 'sql')\n"
          ]
        }
      ]
    },
    {
      "cell_type": "code",
      "source": [
        "hashtags = ['summer', 'time', 'vibes']\n",
        "print('#'+'#'.join(hashtags))"
      ],
      "metadata": {
        "colab": {
          "base_uri": "https://localhost:8080/"
        },
        "id": "_3O625tYkGol",
        "outputId": "9df80183-c8e4-4ecc-ccdb-10d7f4dd3296"
      },
      "execution_count": null,
      "outputs": [
        {
          "output_type": "stream",
          "name": "stdout",
          "text": [
            "#summer#time#vibes#\n"
          ]
        }
      ]
    },
    {
      "cell_type": "code",
      "source": [
        "string=\"Cisco Switch\"\n",
        "print(string.find(\"sco\"))"
      ],
      "metadata": {
        "colab": {
          "base_uri": "https://localhost:8080/"
        },
        "id": "wzKOER3UcLoF",
        "outputId": "4d36fe54-da9c-4008-8f2e-ae1b4fcbb369"
      },
      "execution_count": null,
      "outputs": [
        {
          "output_type": "stream",
          "name": "stdout",
          "text": [
            "2\n"
          ]
        }
      ]
    },
    {
      "cell_type": "code",
      "source": [
        "dict1={\"USA\":\"Washington\",\"Germany\":\"Berlin\",\"Austria\":\"Vienna\"}\n",
        "print(dict1)"
      ],
      "metadata": {
        "colab": {
          "base_uri": "https://localhost:8080/"
        },
        "id": "AhepzHOWGI_i",
        "outputId": "8c4e7bda-68b1-4244-a0bf-7e0755996784"
      },
      "execution_count": null,
      "outputs": [
        {
          "output_type": "stream",
          "name": "stdout",
          "text": [
            "{'USA': 'Washington', 'Germany': 'Berlin', 'Austria': 'Vienna'}\n"
          ]
        }
      ]
    },
    {
      "cell_type": "code",
      "source": [
        "dict1={\"USA\":\"Washington\",\"Germany\":\"Berlin\",\"Austria\":\"Vienna\"}\n",
        "print(dict1.keys())\n",
        "print(dict1.values())\n",
        "print(dict1.items())\n",
        "print(dict1.get(\"Austria\"))"
      ],
      "metadata": {
        "colab": {
          "base_uri": "https://localhost:8080/"
        },
        "id": "LHZUh2naHMhl",
        "outputId": "e3410f3b-9177-4a1b-a235-3941d9dc5f96"
      },
      "execution_count": null,
      "outputs": [
        {
          "output_type": "stream",
          "name": "stdout",
          "text": [
            "dict_keys(['USA', 'Germany', 'Austria'])\n",
            "dict_values(['Washington', 'Berlin', 'Vienna'])\n",
            "dict_items([('USA', 'Washington'), ('Germany', 'Berlin'), ('Austria', 'Vienna')])\n",
            "Vienna\n"
          ]
        }
      ]
    },
    {
      "cell_type": "code",
      "source": [
        "stocks = {'MSFT.US': {'Microsoft Corp': 184},'AAPL.US': {'Apple Inc': 310},'MMM.US': {'3M Co': 148}}\n",
        "print(stocks.get(\"AAPL.US\"))\n",
        "print(stocks[\"MSFT.US\"][\"Microsoft Corp\"])\n",
        "stocks[\"MSFT.US\"][\"Microsoft Corp\"] = 190\n",
        "print(stocks.get(\"MSFT.US\"))\n",
        "stocks[\"V.US\"]= {\"Visa Inc\": 185}\n",
        "print(stocks.values())"
      ],
      "metadata": {
        "colab": {
          "base_uri": "https://localhost:8080/"
        },
        "id": "hYRGvc6JIj79",
        "outputId": "4d4c62da-d6cd-4552-8a91-e88ffcff4f35"
      },
      "execution_count": null,
      "outputs": [
        {
          "output_type": "stream",
          "name": "stdout",
          "text": [
            "{'Apple Inc': 310}\n",
            "184\n",
            "{'Microsoft Corp': 190}\n",
            "dict_values([{'Microsoft Corp': 190}, {'Apple Inc': 310}, {'3M Co': 148}, {'Visa Inc': 185}])\n"
          ]
        }
      ]
    },
    {
      "cell_type": "code",
      "source": [
        "tickers = ['AAPL.US', 'AXP.US', 'BA.US', 'CAT.US','CSCO.US', 'CVX.US', 'DIS.US', 'DOW.US','GS.US', 'HD.US', 'IBM.US', 'INTC.US']\n",
        "print(list(enumerate(tickers)))\n",
        "print(dict(enumerate(tickers)))"
      ],
      "metadata": {
        "colab": {
          "base_uri": "https://localhost:8080/"
        },
        "id": "hY3o_7WpJKzn",
        "outputId": "bf24224b-654b-4225-c0d3-d2bc2d0d3153"
      },
      "execution_count": null,
      "outputs": [
        {
          "output_type": "stream",
          "name": "stdout",
          "text": [
            "[(0, 'AAPL.US'), (1, 'AXP.US'), (2, 'BA.US'), (3, 'CAT.US'), (4, 'CSCO.US'), (5, 'CVX.US'), (6, 'DIS.US'), (7, 'DOW.US'), (8, 'GS.US'), (9, 'HD.US'), (10, 'IBM.US'), (11, 'INTC.US')]\n",
            "{0: 'AAPL.US', 1: 'AXP.US', 2: 'BA.US', 3: 'CAT.US', 4: 'CSCO.US', 5: 'CVX.US', 6: 'DIS.US', 7: 'DOW.US', 8: 'GS.US', 9: 'HD.US', 10: 'IBM.US', 11: 'INTC.US'}\n"
          ]
        }
      ]
    },
    {
      "cell_type": "code",
      "source": [
        "project_ids = {'01': 'open','03': 'in progress','05': 'in progress','04': 'completed'}\n",
        "print(sorted(list(set(project_ids.values()))))"
      ],
      "metadata": {
        "colab": {
          "base_uri": "https://localhost:8080/"
        },
        "id": "syEc7KXvTO8z",
        "outputId": "0125c956-f71d-462f-f9d9-1fd814d3d725"
      },
      "execution_count": null,
      "outputs": [
        {
          "output_type": "stream",
          "name": "stdout",
          "text": [
            "['completed', 'in progress', 'open']\n"
          ]
        }
      ]
    },
    {
      "cell_type": "code",
      "source": [
        "stats = {'site': 'e-smartdata.org', 'traffic': 100, 'type': 'organic'}\n",
        "del stats[\"traffic\"]\n",
        "print(stats)"
      ],
      "metadata": {
        "colab": {
          "base_uri": "https://localhost:8080/"
        },
        "id": "h-YyfBJuSzOa",
        "outputId": "f58da38c-0243-46ec-df61-3481ecbd3905"
      },
      "execution_count": null,
      "outputs": [
        {
          "output_type": "stream",
          "name": "stdout",
          "text": [
            "{'site': 'e-smartdata.org', 'type': 'organic'}\n"
          ]
        }
      ]
    },
    {
      "cell_type": "code",
      "source": [
        "users = {'001': 'Mark', '002': 'Monica', '003': 'Jacob'}\n",
        "print(users.get(\"004\",'indefinite'))"
      ],
      "metadata": {
        "colab": {
          "base_uri": "https://localhost:8080/"
        },
        "id": "QKP8GGD-VFaB",
        "outputId": "b0d8cbec-f88c-4291-b31d-80b8d12776e6"
      },
      "execution_count": null,
      "outputs": [
        {
          "output_type": "stream",
          "name": "stdout",
          "text": [
            "indefinite\n"
          ]
        }
      ]
    },
    {
      "cell_type": "markdown",
      "source": [
        "###Program flow control\n"
      ],
      "metadata": {
        "id": "OYwl8A_OVvP0"
      }
    },
    {
      "cell_type": "code",
      "source": [
        "filename = '01012020_sales.xlsx'\n",
        "if filename.endswith(\".xlsx\"):\n",
        "  print(\"YES\")\n",
        "else:\n",
        "  print(\"NO\")"
      ],
      "metadata": {
        "colab": {
          "base_uri": "https://localhost:8080/"
        },
        "id": "A4qXQeVCV3oF",
        "outputId": "af8e66f7-05b1-47f3-d732-2e84707d827e"
      },
      "execution_count": null,
      "outputs": [
        {
          "output_type": "stream",
          "name": "stdout",
          "text": [
            "YES\n"
          ]
        }
      ]
    },
    {
      "cell_type": "code",
      "source": [
        "code = 'DSVNDOICSN'\n",
        "if code.isupper():\n",
        "  print(\"YES\")\n",
        "else:\n",
        "  print(\"NO\")"
      ],
      "metadata": {
        "colab": {
          "base_uri": "https://localhost:8080/"
        },
        "id": "HKj2SUfl10GV",
        "outputId": "85b4f28e-2c29-4044-c03b-970324c4188f"
      },
      "execution_count": null,
      "outputs": [
        {
          "output_type": "stream",
          "name": "stdout",
          "text": [
            "YES\n"
          ]
        }
      ]
    },
    {
      "cell_type": "code",
      "source": [
        "number = 1.0\n",
        "if number is int:\n",
        "  print(\"YES\")\n",
        "else:\n",
        "  print(\"NO\")"
      ],
      "metadata": {
        "colab": {
          "base_uri": "https://localhost:8080/"
        },
        "id": "HZ2H18q12iGR",
        "outputId": "440cf5ff-bbb3-4466-e27a-abbb71f6b73a"
      },
      "execution_count": null,
      "outputs": [
        {
          "output_type": "stream",
          "name": "stdout",
          "text": [
            "NO\n"
          ]
        }
      ]
    },
    {
      "cell_type": "code",
      "source": [
        "password = 'cskdnjcasa#!'\n",
        "print(\"checking if password's length is more than 11\\n\")\n",
        "if len(password) >= 11 and \"!\" in password:\n",
        "  print(\"Password correct\")\n",
        "else:\n",
        "  print(\"Password too short\")\n"
      ],
      "metadata": {
        "colab": {
          "base_uri": "https://localhost:8080/"
        },
        "id": "PHunGKMx3KhJ",
        "outputId": "0097d7d4-77e6-444e-c2cd-021d7a5072c5"
      },
      "execution_count": null,
      "outputs": [
        {
          "output_type": "stream",
          "name": "stdout",
          "text": [
            "checking if password's length is more than 11\n",
            "\n",
            "Password correct\n"
          ]
        }
      ]
    },
    {
      "cell_type": "code",
      "source": [
        "project_ids = ['02134', '24253']\n",
        "project_id = '02135'\n",
        "if project_id not in project_ids:\n",
        "  project_ids.append(project_id)\n",
        "  print(project_ids)\n",
        "\n"
      ],
      "metadata": {
        "colab": {
          "base_uri": "https://localhost:8080/"
        },
        "id": "soqAfkFo4pHy",
        "outputId": "e1dbd9ae-ee95-4572-f940-b242d0d9e4a4"
      },
      "execution_count": null,
      "outputs": [
        {
          "output_type": "stream",
          "name": "stdout",
          "text": [
            "['02134', '24253', '02135']\n"
          ]
        }
      ]
    },
    {
      "cell_type": "code",
      "source": [
        "project_ids = {'01': 'open','02': 'new','03': 'in progress','04': 'completed'}\n",
        "if project_ids['02'] is 'new':\n",
        "  project_ids['02'] = 'open'\n",
        "\n",
        "print(project_ids)"
      ],
      "metadata": {
        "colab": {
          "base_uri": "https://localhost:8080/"
        },
        "id": "SHdkP8bK6bFb",
        "outputId": "f7805555-1cc3-4842-fcc6-f90991a0ab1c"
      },
      "execution_count": null,
      "outputs": [
        {
          "output_type": "stream",
          "name": "stdout",
          "text": [
            "{'01': 'open', '02': 'open', '03': 'in progress', '04': 'completed'}\n"
          ]
        }
      ]
    },
    {
      "cell_type": "code",
      "source": [
        "item = '001'\n",
        "items = ['001', '000', '003', '005', '006']\n",
        "if item in items:\n",
        "  items.remove(item)\n",
        "\n",
        "print(items)"
      ],
      "metadata": {
        "colab": {
          "base_uri": "https://localhost:8080/"
        },
        "id": "tJG8XMr47iWw",
        "outputId": "968da312-77fb-4584-e5ca-e5fcf15a8e96"
      },
      "execution_count": null,
      "outputs": [
        {
          "output_type": "stream",
          "name": "stdout",
          "text": [
            "['000', '003', '005', '006']\n"
          ]
        }
      ]
    },
    {
      "cell_type": "code",
      "source": [
        "multipleof11 = []\n",
        "for i in range(1,100):\n",
        "  if i%11 == 0 and i%3 != 0:\n",
        "    multipleof11.append(str(i))\n",
        "\n",
        "print(','.join(multipleof11))"
      ],
      "metadata": {
        "colab": {
          "base_uri": "https://localhost:8080/"
        },
        "id": "pvn0hxUL72Kx",
        "outputId": "5389417d-806f-4d0e-a800-d45c46a45f63"
      },
      "execution_count": null,
      "outputs": [
        {
          "output_type": "stream",
          "name": "stdout",
          "text": [
            "11,22,44,55,77,88\n"
          ]
        }
      ]
    },
    {
      "cell_type": "code",
      "source": [
        "items = [1, 3, 4, 5, 6, 9, 10, 17, 23, 24]\n",
        "result =[]\n",
        "for i in items:\n",
        "  if not i%2 != 0:\n",
        "    result.append(i)\n",
        "\n",
        "print(result)\n"
      ],
      "metadata": {
        "colab": {
          "base_uri": "https://localhost:8080/"
        },
        "id": "sX_S1K_g-8HV",
        "outputId": "d258fa39-9d60-4c17-a5b4-975aca3afd73"
      },
      "execution_count": null,
      "outputs": [
        {
          "output_type": "stream",
          "name": "stdout",
          "text": [
            "[4, 6, 10, 24]\n"
          ]
        }
      ]
    },
    {
      "cell_type": "code",
      "source": [
        "items = [1, 5, 3, 2, 2, 4, 2, 4]\n",
        "result = []\n",
        "\n",
        "for item in items:\n",
        "  if not item in result:\n",
        "    result.append(item)\n",
        "\n",
        "print(result)"
      ],
      "metadata": {
        "colab": {
          "base_uri": "https://localhost:8080/"
        },
        "id": "DtKvZIdrBr6l",
        "outputId": "9f0176b6-f0be-4236-8617-c1fe8db6678a"
      },
      "execution_count": null,
      "outputs": [
        {
          "output_type": "stream",
          "name": "stdout",
          "text": [
            "[1, 5, 3, 2, 4]\n"
          ]
        }
      ]
    },
    {
      "cell_type": "code",
      "source": [
        "text = 'Python is a very popular programming language'\n",
        "text = text.lower()\n",
        "words = text.split(\" \")\n",
        "print(words[:4])"
      ],
      "metadata": {
        "colab": {
          "base_uri": "https://localhost:8080/"
        },
        "id": "Yj3IClUiDpoS",
        "outputId": "b7452305-6cc6-4e22-804a-d2299de8a02b"
      },
      "execution_count": null,
      "outputs": [
        {
          "output_type": "stream",
          "name": "stdout",
          "text": [
            "['python', 'is', 'a', 'very']\n"
          ]
        }
      ]
    },
    {
      "cell_type": "markdown",
      "source": [
        "**or**"
      ],
      "metadata": {
        "id": "bvDGlnxHGeaQ"
      }
    },
    {
      "cell_type": "code",
      "source": [
        "text = 'Python is a very popular programming language'\n",
        "words = text.split(\" \")\n",
        "result = []\n",
        "for idx,word in enumerate(words):\n",
        "  if idx < 4:\n",
        "    result.append(word.lower())\n",
        "print(result)"
      ],
      "metadata": {
        "colab": {
          "base_uri": "https://localhost:8080/"
        },
        "id": "JA7n6TCHGiKL",
        "outputId": "54e5fea6-935a-45c3-b155-0edf1ccf0729"
      },
      "execution_count": null,
      "outputs": [
        {
          "output_type": "stream",
          "name": "stdout",
          "text": [
            "['python', 'is', 'a', 'very']\n"
          ]
        }
      ]
    },
    {
      "cell_type": "code",
      "source": [
        "probabilities = [0.21, 0.91, 0.34, 0.55, 0.76, 0.02]\n",
        "result = []\n",
        "for possiblity in probabilities:\n",
        "  if possiblity >= 0.5:\n",
        "    result.append(possiblity)\n",
        "\n",
        "print(result)"
      ],
      "metadata": {
        "colab": {
          "base_uri": "https://localhost:8080/"
        },
        "id": "9dtXguDnHYw8",
        "outputId": "b1ad3d6c-8231-43f7-b2c8-606325375c60"
      },
      "execution_count": null,
      "outputs": [
        {
          "output_type": "stream",
          "name": "stdout",
          "text": [
            "[0.91, 0.55, 0.76]\n"
          ]
        }
      ]
    },
    {
      "cell_type": "code",
      "source": [
        "probabilities = [0.21, 0.91, 0.34, 0.55, 0.76, 0.02]\n",
        "result = []\n",
        "for i in probabilities:\n",
        "  if i < 0.5:\n",
        "    result.append(0)\n",
        "  else:\n",
        "    result.append(1)\n",
        "print(result)"
      ],
      "metadata": {
        "colab": {
          "base_uri": "https://localhost:8080/"
        },
        "id": "ZDMEgMvTIE7Q",
        "outputId": "1905fcb5-6b97-48de-c74e-c6f26995f9ec"
      },
      "execution_count": null,
      "outputs": [
        {
          "output_type": "stream",
          "name": "stdout",
          "text": [
            "[0, 1, 0, 1, 1, 0]\n"
          ]
        }
      ]
    },
    {
      "cell_type": "code",
      "source": [
        "items = ['x', 'y', 'z', 'y', 'x', 'y', 'y', 'z', 'x']\n",
        "dict1 = {}\n",
        "for i in items:\n",
        "  if i not in dict1:\n",
        "    dict1[i] = items.count(i)\n",
        "print(dict1)\n"
      ],
      "metadata": {
        "colab": {
          "base_uri": "https://localhost:8080/"
        },
        "id": "hIa4MfVOQMbp",
        "outputId": "b611d6ff-0b5c-4b15-8705-07b688e06f4b"
      },
      "execution_count": null,
      "outputs": [
        {
          "output_type": "stream",
          "name": "stdout",
          "text": [
            "{'x': 3, 'y': 4, 'z': 2}\n"
          ]
        }
      ]
    },
    {
      "cell_type": "code",
      "source": [
        "text = \"\"\"Python is powerful... and fast\n",
        "plays well with others\n",
        "runs everywhere\n",
        "is friendly & easy to learn\n",
        "is Open\n",
        "These are some of the reasons people who use Python would rather not use anything else\"\"\"\n",
        "text = text.lower()\n",
        "text = text.replace(\"...\",\"\")\n",
        "text= text.replace(\"\\n\",\" \")\n",
        "text = text.split()\n",
        "result =[]\n",
        "for i in text:\n",
        "  if len(i) > 6:\n",
        "    result.append(i)\n",
        "print(result)\n"
      ],
      "metadata": {
        "colab": {
          "base_uri": "https://localhost:8080/"
        },
        "id": "jx79jfaDRjDL",
        "outputId": "28e74c29-a3a7-432f-aff0-49c0cb2ba6d7"
      },
      "execution_count": null,
      "outputs": [
        {
          "output_type": "stream",
          "name": "stdout",
          "text": [
            "['powerful', 'everywhere', 'friendly', 'reasons', 'anything']\n"
          ]
        }
      ]
    },
    {
      "cell_type": "code",
      "source": [
        "indexes = [\n",
        "    'BOVESPA', 'DOW JONES COMP', 'DOW JONES INDU',\n",
        "    'DOW JONES TRANS', 'DOW JONES UTIL', 'IPC',\n",
        "    'IPSA', 'MERVAL', 'NASDAQ COMP', 'NASDAQ100',\n",
        "    'S&P500', 'S&P/TSX COMP'\n",
        "]\n",
        "for i in indexes:\n",
        "  if i.startswith(\"DOW\") or i.startswith(\"S&P\"):\n",
        "    print(i)"
      ],
      "metadata": {
        "colab": {
          "base_uri": "https://localhost:8080/"
        },
        "id": "oqT4ATeHUAHP",
        "outputId": "e436658b-4c9a-4561-a546-be0483081dff"
      },
      "execution_count": null,
      "outputs": [
        {
          "output_type": "stream",
          "name": "stdout",
          "text": [
            "DOW JONES COMP\n",
            "DOW JONES INDU\n",
            "DOW JONES TRANS\n",
            "DOW JONES UTIL\n",
            "S&P500\n",
            "S&P/TSX COMP\n"
          ]
        }
      ]
    },
    {
      "cell_type": "code",
      "source": [
        "gaming = {\n",
        "    '11B': 362.5,\n",
        "    'CDR': 297.0,\n",
        "    'CIG': 0.85,\n",
        "    'PLW': 318.0,\n",
        "    'TEN': 300.0\n",
        "}\n",
        "for i in gaming:\n",
        "  if gaming[i] > 100.00:\n",
        "    print(i)"
      ],
      "metadata": {
        "colab": {
          "base_uri": "https://localhost:8080/"
        },
        "id": "v09b4PwMVr5E",
        "outputId": "b30a6cff-4301-48df-bd3e-3e6d7b8c25ba"
      },
      "execution_count": null,
      "outputs": [
        {
          "output_type": "stream",
          "name": "stdout",
          "text": [
            "11B\n",
            "CDR\n",
            "PLW\n",
            "TEN\n"
          ]
        }
      ]
    },
    {
      "cell_type": "code",
      "source": [
        "names = ['Jack', 'Leon', 'Alice', '32-3c', 'Bob']\n",
        "for i in names:\n",
        "  if i.isalpha():\n",
        "    print(f\"Hello {i}!\")"
      ],
      "metadata": {
        "colab": {
          "base_uri": "https://localhost:8080/"
        },
        "id": "xiE0_TLSWcdM",
        "outputId": "b45be7c7-ed0c-4906-ffbd-679d6e7834fe"
      },
      "execution_count": null,
      "outputs": [
        {
          "output_type": "stream",
          "name": "stdout",
          "text": [
            "Hello Jack!\n",
            "Hello Leon!\n",
            "Hello Alice!\n",
            "Hello Bob!\n"
          ]
        }
      ]
    },
    {
      "cell_type": "code",
      "source": [
        "list1 = [1, 2, 0]\n",
        "list2 = [4, 5, 6, 1]\n",
        "for i in list1:\n",
        "  if i in list2:\n",
        "    print(\"True\")\n",
        "    break\n"
      ],
      "metadata": {
        "colab": {
          "base_uri": "https://localhost:8080/"
        },
        "id": "y-PCw-9OZxRg",
        "outputId": "e0aabe4a-8429-4571-8bd9-e57a8c33276b"
      },
      "execution_count": 2,
      "outputs": [
        {
          "output_type": "stream",
          "name": "stdout",
          "text": [
            "True\n"
          ]
        }
      ]
    },
    {
      "cell_type": "code",
      "source": [
        "hashtags = ['holiday', 'sport', 'fit', None, 'fashion']\n",
        "print(isinstance(hashtags,str))"
      ],
      "metadata": {
        "colab": {
          "base_uri": "https://localhost:8080/"
        },
        "id": "EM_UfbCSbLCA",
        "outputId": "00b8de3c-997f-4a57-8b0e-f09a45a04848"
      },
      "execution_count": 6,
      "outputs": [
        {
          "output_type": "stream",
          "name": "stdout",
          "text": [
            "False\n"
          ]
        }
      ]
    },
    {
      "cell_type": "code",
      "source": [
        "number = 13\n",
        "if number > 1:\n",
        "  for i in range(2,number):\n",
        "    if number % i == 0:\n",
        "      print(f\"{number} - not prime number\")\n",
        "      break\n",
        "    else:\n",
        "      print(f\"{number} - prime number\")\n",
        "      break\n",
        "else:\n",
        "  print(f\"{number} - not prime number\")"
      ],
      "metadata": {
        "colab": {
          "base_uri": "https://localhost:8080/"
        },
        "id": "alIZZ-XDc5AX",
        "outputId": "b91ea17f-c841-4481-b88e-8b483424a649"
      },
      "execution_count": 11,
      "outputs": [
        {
          "output_type": "stream",
          "name": "stdout",
          "text": [
            "13 - prime number\n"
          ]
        }
      ]
    },
    {
      "cell_type": "code",
      "source": [
        "gaming = {\n",
        "    '11B': [362.5, 'PLN'],\n",
        "    'CDR': [74.25, 'USD'],\n",
        "    'CIG': [0.85, 'PLN'],\n",
        "    'PLW': [79.5, 'USD'],\n",
        "    'TEN': [300.0, 'PLN']\n",
        "}\n",
        "for i, j in gaming.items():\n",
        "  if j[1] == \"PLN\":\n",
        "    continue\n",
        "  j[0] = j[0] * 4.0\n",
        "  j[1] = \"PLN\"\n",
        "\n",
        "print(gaming)"
      ],
      "metadata": {
        "colab": {
          "base_uri": "https://localhost:8080/"
        },
        "id": "Ic_Cg9dqfIxl",
        "outputId": "fd61be45-d213-45b2-868b-0ca4283a3f7b"
      },
      "execution_count": 13,
      "outputs": [
        {
          "output_type": "stream",
          "name": "stdout",
          "text": [
            "{'11B': [362.5, 'PLN'], 'CDR': [297.0, 'PLN'], 'CIG': [0.85, 'PLN'], 'PLW': [318.0, 'PLN'], 'TEN': [300.0, 'PLN']}\n"
          ]
        }
      ]
    },
    {
      "cell_type": "code",
      "source": [
        "names = ['Jack', 'Leon', 'Alice', None, 'Bob']\n",
        "for name in names:\n",
        "  if type(name) is not str:\n",
        "    continue\n",
        "  print(name)\n",
        "  "
      ],
      "metadata": {
        "colab": {
          "base_uri": "https://localhost:8080/"
        },
        "id": "zrkxCIbAgjdP",
        "outputId": "e5fdabbe-1b97-4771-8944-f8fd287a9974"
      },
      "execution_count": 14,
      "outputs": [
        {
          "output_type": "stream",
          "name": "stdout",
          "text": [
            "Jack\n",
            "Leon\n",
            "Alice\n",
            "Bob\n"
          ]
        }
      ]
    },
    {
      "cell_type": "code",
      "source": [
        "counter = 0\n",
        "number = 2\n",
        "prime = []\n",
        "\n",
        "while counter < 10:\n",
        "  for i in range(2,number):\n",
        "    if number % i == 0:\n",
        "      break\n",
        "  else:\n",
        "      prime.append(str(number))\n",
        "      counter += 1\n",
        "  number += 1\n",
        "print(','.join(prime))"
      ],
      "metadata": {
        "colab": {
          "base_uri": "https://localhost:8080/"
        },
        "id": "UoqpTwDHhN4u",
        "outputId": "f0269f6b-ad1c-4c6a-eea2-12e1e3ab266a"
      },
      "execution_count": 17,
      "outputs": [
        {
          "output_type": "stream",
          "name": "stdout",
          "text": [
            "2,3,5,7,11,13,17,19,23,29\n"
          ]
        }
      ]
    },
    {
      "cell_type": "code",
      "source": [
        "n = 1\n",
        "pv = 1000\n",
        "r = 0.04\n",
        "fv = pv * (1 + r)\n",
        " \n",
        "while fv <= 2000:\n",
        "    fv = fv * (1 + r)\n",
        "    n += 1\n",
        "print(f'Future value: {fv:.2f} USD. Number of periods: {n} years')"
      ],
      "metadata": {
        "id": "0O7jy7EZkN93"
      },
      "execution_count": null,
      "outputs": []
    },
    {
      "cell_type": "code",
      "source": [
        "sum = 3000\n",
        "counter = 0\n",
        "try:\n",
        "  result = sum / counter\n",
        "  print(result)\n",
        "except ZeroDivisionError:\n",
        "  print(\"Division by zero.\")"
      ],
      "metadata": {
        "colab": {
          "base_uri": "https://localhost:8080/"
        },
        "id": "YuPhXpjEmyNa",
        "outputId": "dd50f84e-5307-4e6a-e220-34e85ad8f47d"
      },
      "execution_count": 18,
      "outputs": [
        {
          "output_type": "stream",
          "name": "stdout",
          "text": [
            "Division by zero.\n"
          ]
        }
      ]
    },
    {
      "cell_type": "code",
      "source": [
        "try:\n",
        "  with open(\"file.txt\",\"r\") as file:\n",
        "    content=file.read()\n",
        "except FileNotFoundError:\n",
        "  print(\"File not found.\")"
      ],
      "metadata": {
        "colab": {
          "base_uri": "https://localhost:8080/"
        },
        "id": "qI1B_YV6ncVR",
        "outputId": "e8ef053a-92be-490e-a17d-f0ea291fad0e"
      },
      "execution_count": 21,
      "outputs": [
        {
          "output_type": "stream",
          "name": "stdout",
          "text": [
            "File not found.\n"
          ]
        }
      ]
    },
    {
      "cell_type": "code",
      "source": [
        "users = {'001': 'Mark', '002': 'Monica', '003': 'Jacob'}\n",
        "user_id = '004'\n",
        "try:\n",
        "  print(users['004'])\n",
        "except KeyError:\n",
        "  print(\"The 004 key is not in the dictionary. Adding key ...\")\n",
        "  users['004'] = None\n",
        "  print(users)"
      ],
      "metadata": {
        "colab": {
          "base_uri": "https://localhost:8080/"
        },
        "id": "xUKmJHQToELv",
        "outputId": "0e428a29-29da-49ca-cd62-8d7b5410017a"
      },
      "execution_count": 24,
      "outputs": [
        {
          "output_type": "stream",
          "name": "stdout",
          "text": [
            "The 004 key is not in the dictionary. Adding key ...\n",
            "{'001': 'Mark', '002': 'Monica', '003': 'Jacob', '004': None}\n"
          ]
        }
      ]
    },
    {
      "cell_type": "markdown",
      "source": [
        "###Input/Output "
      ],
      "metadata": {
        "id": "3CzaGkE-pVkS"
      }
    },
    {
      "cell_type": "code",
      "source": [
        "with open(\"playway.txt\",\"w\") as playway:\n",
        "  playway.writelines([\"Date\",\"Open\",\"High\",\"Low\",\"Close\",\"Volume\"])\n",
        "  playway.writelines([\"2020-04-01\",\"302\",\"314\",\"300\",\"310\",\"12940\"])\n",
        "  playway.writelines([\"2020-04-02\",\"310\",\"315\",\"305\",\"313\",\"10311\"])\n",
        "  playway.writelines([\"2020-04-03\",\"313\",\"318.5\",\"312\",\"318\",\"12372\"])\n",
        "\n",
        "with open(\"playway.txt\",\"r\") as file:\n",
        "  lines = file.read().splitlines()\n",
        "\n",
        "close = []\n",
        "\n",
        "for idx, line in enumerate(lines):\n",
        "  if idx > 0:\n",
        "    close.append(int(line.split(',')[-2]))\n",
        "    \n",
        "close_avg = sum(close) / len(close)\n",
        "print(f\"3-day average closing price: {close_avg:.2f}\")"
      ],
      "metadata": {
        "id": "nyPDa_Gopay1"
      },
      "execution_count": null,
      "outputs": []
    },
    {
      "cell_type": "code",
      "source": [
        "with open(\"currencies.txt\",\"r\") as currency:\n",
        "  lines = currency.read().splitlines()\n",
        "\n",
        "indexes = [index for index in lines if 'USD' in index]\n",
        "print(indexes)"
      ],
      "metadata": {
        "id": "LOe2SnH506bI"
      },
      "execution_count": null,
      "outputs": []
    },
    {
      "cell_type": "code",
      "source": [
        "with open(\"playway.csv\",\"r\") as file:\n",
        "  content = file.read().splitlines()\n",
        "data = [(line.split(',')[0], line.split(',')[4] )for line in content]\n",
        "result = { data[0][0]: [data[1:][i][0] for i in range(len(data)-1)], data[0][1]:[float(data[1:][i][1]) for i in range(len(data)-1)]}\n",
        "print(result)"
      ],
      "metadata": {
        "id": "7lMfHecgyXrj"
      },
      "execution_count": null,
      "outputs": []
    },
    {
      "cell_type": "code",
      "source": [
        "with open(\"playway.csv\",\"r\") as file:\n",
        "  content=file.read().splitlines()\n",
        "\n",
        "volumes = [line.split(',')[-1] for line in content][1:]\n",
        "volumes = [int(vol) for vol in volumes]\n",
        "max_vol = max(volumes)\n",
        "print(f'Max Vol: {max_vol}')"
      ],
      "metadata": {
        "id": "pe1LWD6V0_VV"
      },
      "execution_count": null,
      "outputs": []
    },
    {
      "cell_type": "code",
      "source": [
        "with open(\"playway.csv\",\"r\") as file:\n",
        "  content = file.read().splitlines()\n",
        "\n",
        "data =[(line.split(',')[0],line.split(\",\")[-1]) for line in content][1:]\n",
        "data=[(val[0],int(val[1])) for val in data]\n",
        "max_vol = max([val[1] for val in data])\n",
        "max_date = list(filter(lambda val: val[1] == max_vol,data))[0][0]\n",
        "print(f'Date: {max_date}')"
      ],
      "metadata": {
        "id": "_m8bCXG_2DQZ"
      },
      "execution_count": null,
      "outputs": []
    },
    {
      "cell_type": "code",
      "source": [
        "numbers = list(range(1,20))\n",
        "even = [number for number in numbers if number % 2 == 0]\n",
        "\n",
        "with open(\"num.txt\",\"w\") as file:\n",
        "  for num in even:\n",
        "    file.write(str(num) + '\\n')\n",
        "    \n",
        "with open(\"num.txt\",\"r\") as fileread:\n",
        "  print(fileread.read())"
      ],
      "metadata": {
        "colab": {
          "base_uri": "https://localhost:8080/"
        },
        "id": "gJJDhYAv6Ws7",
        "outputId": "fd90b023-8c03-4cc3-ac68-e80c86b757be"
      },
      "execution_count": 13,
      "outputs": [
        {
          "output_type": "stream",
          "name": "stdout",
          "text": [
            "2\n",
            "4\n",
            "6\n",
            "8\n",
            "10\n",
            "12\n",
            "14\n",
            "16\n",
            "18\n",
            "\n"
          ]
        }
      ]
    },
    {
      "cell_type": "code",
      "source": [
        "import json\n",
        "\n",
        "stocks = {'PLW': ['Playway', 350], 'BBT': ['Boombit', 22]}\n",
        "\n",
        "with open('stocks.json','w') as file:\n",
        "  json.dump(stocks, file,indent=4)\n",
        "\n",
        "with open(\"stocks.json\",'r') as fileread:\n",
        "  print(fileread.read())"
      ],
      "metadata": {
        "colab": {
          "base_uri": "https://localhost:8080/"
        },
        "id": "FmM2e8uT7tYV",
        "outputId": "ca29ca9d-3ed2-47bd-86b7-ca2b5f3ad7c3"
      },
      "execution_count": 12,
      "outputs": [
        {
          "output_type": "stream",
          "name": "stdout",
          "text": [
            "{\n",
            "    \"PLW\": [\n",
            "        \"Playway\",\n",
            "        350\n",
            "    ],\n",
            "    \"BBT\": [\n",
            "        \"Boombit\",\n",
            "        22\n",
            "    ]\n",
            "}\n"
          ]
        }
      ]
    },
    {
      "cell_type": "code",
      "source": [
        "headers = ['user_id', 'amount']\n",
        "users = [['001', '1400'], ['004', '1300'], ['007', '900']]\n",
        "with open(\"user.csv\",\"w\") as file:\n",
        "  file.write(','.join(headers) + '\\n')\n",
        "  for user in users:\n",
        "    file.write(','.join(user) + '\\n')\n",
        "\n",
        "with open(\"user.csv\",\"r\") as fileread:\n",
        "  print(fileread.read())"
      ],
      "metadata": {
        "colab": {
          "base_uri": "https://localhost:8080/"
        },
        "id": "0P8bc1aq8_6L",
        "outputId": "2a7f3d00-ab9f-4a48-d99c-ed23a36e78d5"
      },
      "execution_count": 15,
      "outputs": [
        {
          "output_type": "stream",
          "name": "stdout",
          "text": [
            "user_id,amount\n",
            "001,1400\n",
            "004,1300\n",
            "007,900\n",
            "\n"
          ]
        }
      ]
    },
    {
      "cell_type": "markdown",
      "source": [
        "###Functions"
      ],
      "metadata": {
        "id": "Ntc6mSeT-BDr"
      }
    },
    {
      "cell_type": "code",
      "source": [
        "x = -1.5\n",
        "expression = 'x**2 + x'\n",
        "print(eval(expression))"
      ],
      "metadata": {
        "colab": {
          "base_uri": "https://localhost:8080/"
        },
        "id": "AK54ZswB-Fpl",
        "outputId": "d3ca3211-e64d-4d4e-ce48-52771ffeaa7a"
      },
      "execution_count": 17,
      "outputs": [
        {
          "output_type": "stream",
          "name": "stdout",
          "text": [
            "0.75\n"
          ]
        }
      ]
    },
    {
      "cell_type": "code",
      "source": [
        "var1 = 'Python'\n",
        "var2 = ('Python')\n",
        "var3 = ('Python',)\n",
        "var4 = ['Python']\n",
        "var5 = {'Python'}\n",
        "print(isinstance(var1,tuple))\n",
        "print(isinstance(var2,tuple))\n",
        "print(isinstance(var3,tuple))\n",
        "print(isinstance(var4,tuple))\n",
        "print(isinstance(var5,tuple))"
      ],
      "metadata": {
        "colab": {
          "base_uri": "https://localhost:8080/"
        },
        "id": "ELfl1T25J9UN",
        "outputId": "1515ddb1-f269-44fb-eb5b-660d92debbd7"
      },
      "execution_count": 20,
      "outputs": [
        {
          "output_type": "stream",
          "name": "stdout",
          "text": [
            "False\n",
            "False\n",
            "True\n",
            "False\n",
            "False\n"
          ]
        }
      ]
    },
    {
      "cell_type": "code",
      "source": [
        "characters = ['k', 'b', 'c', 'j', 'z', 'w']\n",
        "print(f'First: {min(characters)}')\n",
        "print(f'Last: {max(characters)}')"
      ],
      "metadata": {
        "colab": {
          "base_uri": "https://localhost:8080/"
        },
        "id": "TVrUvn38K2cR",
        "outputId": "e49228e4-c330-403b-eb0c-977384e5e0af"
      },
      "execution_count": 25,
      "outputs": [
        {
          "output_type": "stream",
          "name": "stdout",
          "text": [
            "First: b\n",
            "Last: z\n"
          ]
        }
      ]
    },
    {
      "cell_type": "code",
      "source": [
        "ticker = ('TEN', 'PLW', 'CDR')\n",
        "full_name = ('Ten Square Games', 'Playway', 'CD Projekt')\n",
        "print(list(zip(ticker,full_name)))"
      ],
      "metadata": {
        "colab": {
          "base_uri": "https://localhost:8080/"
        },
        "id": "eWJJo03uLvyg",
        "outputId": "119ca6f1-a764-4e1a-c359-87fae6f994eb"
      },
      "execution_count": 27,
      "outputs": [
        {
          "output_type": "stream",
          "name": "stdout",
          "text": [
            "[('TEN', 'Ten Square Games'), ('PLW', 'Playway'), ('CDR', 'CD Projekt')]\n"
          ]
        }
      ]
    },
    {
      "cell_type": "code",
      "source": [
        "items = (' ', '0', 0.1, True)\n",
        "print(all(items))"
      ],
      "metadata": {
        "colab": {
          "base_uri": "https://localhost:8080/"
        },
        "id": "G3HOsPqZMTdW",
        "outputId": "47903254-8bf1-4f5d-a232-9036e2464764"
      },
      "execution_count": 31,
      "outputs": [
        {
          "output_type": "stream",
          "name": "stdout",
          "text": [
            "True\n"
          ]
        }
      ]
    },
    {
      "cell_type": "code",
      "source": [
        "items = ('', 0.0, 0, False)\n",
        "print(any(items))"
      ],
      "metadata": {
        "colab": {
          "base_uri": "https://localhost:8080/"
        },
        "id": "ePdp-P5sMycp",
        "outputId": "5fade6b8-462f-4e87-a37e-7efcdabf9305"
      },
      "execution_count": 32,
      "outputs": [
        {
          "output_type": "stream",
          "name": "stdout",
          "text": [
            "False\n"
          ]
        }
      ]
    },
    {
      "cell_type": "code",
      "source": [
        "number = 234\n",
        "binary = bin(234)\n",
        "print(binary.count('1'))"
      ],
      "metadata": {
        "colab": {
          "base_uri": "https://localhost:8080/"
        },
        "id": "1iQ3ZzVDNzTz",
        "outputId": "23a8e435-efe5-4e66-a1d2-d442fecc0bfd"
      },
      "execution_count": 40,
      "outputs": [
        {
          "output_type": "stream",
          "name": "stdout",
          "text": [
            "5\n"
          ]
        }
      ]
    },
    {
      "cell_type": "code",
      "source": [
        "def maximum(x,y):\n",
        "  if x >= y:\n",
        "    return x\n",
        "  else:\n",
        "    return y\n",
        "\n",
        "print(maximum(4,2))\n",
        "print(maximum(-4,2))"
      ],
      "metadata": {
        "colab": {
          "base_uri": "https://localhost:8080/"
        },
        "id": "nCjG6tlcOlEl",
        "outputId": "0fb4c78e-687b-427e-d733-3562139d12d3"
      },
      "execution_count": 41,
      "outputs": [
        {
          "output_type": "stream",
          "name": "stdout",
          "text": [
            "4\n",
            "2\n"
          ]
        }
      ]
    },
    {
      "cell_type": "code",
      "source": [
        "def maximum(x,y,z):\n",
        "  if x >= y and x >= z:\n",
        "    return x\n",
        "  elif y >= z:\n",
        "    return y\n",
        "  else:\n",
        "    return z\n",
        "print(maximum(4,2,1))\n",
        "print(maximum(-3,2,5))"
      ],
      "metadata": {
        "colab": {
          "base_uri": "https://localhost:8080/"
        },
        "id": "yNVXwwA5Xamj",
        "outputId": "27f090f4-623a-4257-8b33-6dbafee5b1bc"
      },
      "execution_count": 42,
      "outputs": [
        {
          "output_type": "stream",
          "name": "stdout",
          "text": [
            "4\n",
            "5\n"
          ]
        }
      ]
    },
    {
      "cell_type": "code",
      "source": [
        "def multi(numbers):\n",
        "  result =1\n",
        "  for number in numbers:\n",
        "    result *= number\n",
        "  return result\n",
        "\n",
        "print(multi((-4,6,2)))\n",
        "print(multi([4,2,-5]))"
      ],
      "metadata": {
        "colab": {
          "base_uri": "https://localhost:8080/"
        },
        "id": "wzc8RRwbYSfk",
        "outputId": "e2ce8920-4c1c-4795-8bfd-4be13ad96082"
      },
      "execution_count": 44,
      "outputs": [
        {
          "output_type": "stream",
          "name": "stdout",
          "text": [
            "-48\n",
            "-40\n"
          ]
        }
      ]
    },
    {
      "cell_type": "code",
      "source": [
        "def map_longest(list1):\n",
        "  length = []\n",
        "  for element in list1:\n",
        "    length.append(len(element))\n",
        "  return max(length)\n",
        "\n",
        "print(map_longest(['python','sql']))\n",
        "print(map_longest(['java','sql','r']))"
      ],
      "metadata": {
        "colab": {
          "base_uri": "https://localhost:8080/"
        },
        "id": "YmBv-IN2ZPFk",
        "outputId": "b00ee2f4-eae9-4fcf-855c-75e2f91502a4"
      },
      "execution_count": 48,
      "outputs": [
        {
          "output_type": "stream",
          "name": "stdout",
          "text": [
            "6\n",
            "4\n"
          ]
        }
      ]
    },
    {
      "cell_type": "code",
      "source": [
        "def filter_ge_6(listsupper):\n",
        "  listminor = []\n",
        "  for element in listsupper:\n",
        "    if len(element) >= 6:\n",
        "      listminor.append(element)\n",
        "  return listminor\n",
        "\n",
        "print(filter_ge_6(['programming','python','java','sql']))\n",
        "print(filter_ge_6(['java','sql']))"
      ],
      "metadata": {
        "colab": {
          "base_uri": "https://localhost:8080/"
        },
        "id": "ZXXh5QWScqhW",
        "outputId": "53e8f9cc-df3e-43a2-fc29-99beb3dfd24d"
      },
      "execution_count": 49,
      "outputs": [
        {
          "output_type": "stream",
          "name": "stdout",
          "text": [
            "['programming', 'python']\n",
            "[]\n"
          ]
        }
      ]
    },
    {
      "cell_type": "code",
      "source": [
        "def factorial(n):\n",
        "  if n == 0:\n",
        "    return 1\n",
        "  return n * factorial(n-1)\n",
        "\n",
        "print(factorial(6))\n",
        "print(factorial(10))"
      ],
      "metadata": {
        "colab": {
          "base_uri": "https://localhost:8080/"
        },
        "id": "nC5QVqkbd11L",
        "outputId": "5a6fff4e-d40a-4e3e-a58d-25b07821cc9b"
      },
      "execution_count": 50,
      "outputs": [
        {
          "output_type": "stream",
          "name": "stdout",
          "text": [
            "720\n",
            "3628800\n"
          ]
        }
      ]
    },
    {
      "cell_type": "code",
      "source": [
        "def count_str(obj):\n",
        "  count=0\n",
        "  for element in obj:\n",
        "    if type(element) is str:\n",
        "      count +=1\n",
        "  return count\n",
        "\n",
        "print(count_str(['p',2,4.3,None]))\n",
        "print(count_str({'p',2,4.3, True,'True',None}))"
      ],
      "metadata": {
        "colab": {
          "base_uri": "https://localhost:8080/"
        },
        "id": "nLPk6V5ceuXo",
        "outputId": "406537cf-811e-4e9d-a502-4f0f84f18c30"
      },
      "execution_count": 51,
      "outputs": [
        {
          "output_type": "stream",
          "name": "stdout",
          "text": [
            "1\n",
            "2\n"
          ]
        }
      ]
    },
    {
      "cell_type": "code",
      "source": [
        "def count_str(obj):\n",
        "  count = 0\n",
        "  for element in obj:\n",
        "    if isinstance(element,str) and len(element) > 2:\n",
        "      count +=1\n",
        "  return count\n",
        "\n",
        "print(count_str([1, '#hello','','python','go']))\n",
        "print(count_str([1,2,3, 'python']))"
      ],
      "metadata": {
        "colab": {
          "base_uri": "https://localhost:8080/"
        },
        "id": "totAb7yofwhs",
        "outputId": "d325f6ad-9b85-4bd0-f3f3-57f653c92de8"
      },
      "execution_count": 53,
      "outputs": [
        {
          "output_type": "stream",
          "name": "stdout",
          "text": [
            "2\n",
            "1\n"
          ]
        }
      ]
    },
    {
      "cell_type": "code",
      "source": [
        "def remove_duplicates(obj):\n",
        "  objminor = []\n",
        "  for element in obj:\n",
        "    if element not in objminor:\n",
        "      objminor.append(element)\n",
        "  return objminor\n",
        "\n",
        "print(remove_duplicates([1,5,3,2,2,4,2,4]))\n",
        "print(remove_duplicates([1,1,1,1]))\n"
      ],
      "metadata": {
        "colab": {
          "base_uri": "https://localhost:8080/"
        },
        "id": "VKHsPxUTiEPN",
        "outputId": "bafa17ff-679d-409b-b016-f2bba32349d8"
      },
      "execution_count": 54,
      "outputs": [
        {
          "output_type": "stream",
          "name": "stdout",
          "text": [
            "[1, 5, 3, 2, 4]\n",
            "[1]\n"
          ]
        }
      ]
    },
    {
      "cell_type": "code",
      "source": [
        "def is_distinct(obj):\n",
        "  return len(obj) == len(set(obj))\n",
        "\n",
        "print(is_distinct([1,2,3]))\n",
        "print(is_distinct([1,2,3,3]))"
      ],
      "metadata": {
        "colab": {
          "base_uri": "https://localhost:8080/"
        },
        "id": "X1HH22y_jTxG",
        "outputId": "44b4c4a6-f07e-4410-a5b7-360d5cd09777"
      },
      "execution_count": 55,
      "outputs": [
        {
          "output_type": "stream",
          "name": "stdout",
          "text": [
            "True\n",
            "False\n"
          ]
        }
      ]
    },
    {
      "cell_type": "code",
      "source": [
        "def function(idx, l=[]):\n",
        "    for i in range(idx):\n",
        "        l.append(i ** 3)\n",
        "    print(l)\n",
        "\n",
        "function(3)\n",
        "function(5,['a','b','c'])\n",
        "function(6)"
      ],
      "metadata": {
        "colab": {
          "base_uri": "https://localhost:8080/"
        },
        "id": "BFYtmlXampOB",
        "outputId": "035df06f-f7b3-457a-9c94-0e5c5308324e"
      },
      "execution_count": 58,
      "outputs": [
        {
          "output_type": "stream",
          "name": "stdout",
          "text": [
            "[0, 1, 8]\n",
            "['a', 'b', 'c', 0, 1, 8, 27, 64]\n",
            "[0, 1, 8, 0, 1, 8, 27, 64, 125]\n"
          ]
        }
      ]
    },
    {
      "cell_type": "code",
      "source": [
        "def function(*args, **kwargs):\n",
        "    print(args, kwargs)\n",
        "\n",
        "function(3,4)\n",
        "function(x=3,y=4)\n",
        "function(1,2,x=3,y=4)"
      ],
      "metadata": {
        "colab": {
          "base_uri": "https://localhost:8080/"
        },
        "id": "VxekytqCnwaD",
        "outputId": "8e22cbe1-f6f7-4102-bc11-eabde8f0340f"
      },
      "execution_count": 59,
      "outputs": [
        {
          "output_type": "stream",
          "name": "stdout",
          "text": [
            "(3, 4) {}\n",
            "() {'x': 3, 'y': 4}\n",
            "(1, 2) {'x': 3, 'y': 4}\n"
          ]
        }
      ]
    },
    {
      "cell_type": "code",
      "source": [
        "def is_palindrome(string):\n",
        "  inverse = string[::-1]\n",
        "  if string == inverse:\n",
        "    return True\n",
        "  else:\n",
        "    return False\n",
        "\n",
        "print(is_palindrome('level'))\n",
        "print(is_palindrome('python'))"
      ],
      "metadata": {
        "colab": {
          "base_uri": "https://localhost:8080/"
        },
        "id": "A69L-3Ekovvu",
        "outputId": "26f8a235-20a8-4036-b17c-cce80bf7a267"
      },
      "execution_count": 61,
      "outputs": [
        {
          "output_type": "stream",
          "name": "stdout",
          "text": [
            "True\n",
            "False\n"
          ]
        }
      ]
    },
    {
      "cell_type": "code",
      "source": [
        "stocks = ['playway', 'boombit', 'cd projekt']\n",
        "length = list(map(lambda stock: len(stock),stocks))\n",
        "print(length)"
      ],
      "metadata": {
        "colab": {
          "base_uri": "https://localhost:8080/"
        },
        "id": "6CWY2IeZWiSQ",
        "outputId": "80dd0431-1e9b-427b-8fd0-99a704d03b90"
      },
      "execution_count": 3,
      "outputs": [
        {
          "output_type": "stream",
          "name": "stdout",
          "text": [
            "[7, 7, 10]\n"
          ]
        }
      ]
    },
    {
      "cell_type": "code",
      "source": [
        "def sort_list(obj):\n",
        "  return sorted(obj, key =lambda item: item[1])\n",
        "\n",
        "sort_list([(1,3),(4,1),(4,2),(0,7)])"
      ],
      "metadata": {
        "colab": {
          "base_uri": "https://localhost:8080/"
        },
        "id": "xWOfizFQaR6l",
        "outputId": "025c5346-a3fd-4036-a20c-a52646ae95f3"
      },
      "execution_count": 4,
      "outputs": [
        {
          "output_type": "execute_result",
          "data": {
            "text/plain": [
              "[(4, 1), (4, 2), (1, 3), (0, 7)]"
            ]
          },
          "metadata": {},
          "execution_count": 4
        }
      ]
    },
    {
      "cell_type": "code",
      "source": [
        "def func_1(x,y):\n",
        "  return x + y + 2\n",
        "\n",
        "func_2 = lambda x,y: x + y + 2\n",
        "\n",
        "func_2(1,2)"
      ],
      "metadata": {
        "colab": {
          "base_uri": "https://localhost:8080/"
        },
        "id": "LBFvtkSYbP9R",
        "outputId": "2c76dff0-fd48-4244-ad40-b7ca83840d30"
      },
      "execution_count": 5,
      "outputs": [
        {
          "output_type": "execute_result",
          "data": {
            "text/plain": [
              "5"
            ]
          },
          "metadata": {},
          "execution_count": 5
        }
      ]
    },
    {
      "cell_type": "code",
      "source": [
        "items = [(3, 4), (2, 5), (1, 4), (6, 1)]\n",
        "items.sort(key=lambda item: item[0]**2 + item[1]**2)\n",
        "print(items)       \n"
      ],
      "metadata": {
        "colab": {
          "base_uri": "https://localhost:8080/"
        },
        "id": "RSW5IoMtcgGX",
        "outputId": "1dd352e5-11ad-4717-db89-8bf45d2ed2e8"
      },
      "execution_count": 8,
      "outputs": [
        {
          "output_type": "stream",
          "name": "stdout",
          "text": [
            "[(1, 4), (3, 4), (2, 5), (6, 1)]\n"
          ]
        }
      ]
    },
    {
      "cell_type": "code",
      "source": [
        "stocks = [\n",
        "    {'index': 'mWIG40', 'name': 'TEN', 'price': 304},\n",
        "    {'index': 'mWIG40', 'name': 'PLW', 'price': 309},\n",
        "    {'index': 'sWIG80', 'name': 'BBT', 'price': 22}\n",
        "]\n",
        "stocks.sort(key=lambda item: item['price'])\n",
        "print(stocks)"
      ],
      "metadata": {
        "colab": {
          "base_uri": "https://localhost:8080/"
        },
        "id": "ilwErDzOesEo",
        "outputId": "664a7e5e-8839-4705-999e-b83661484ab1"
      },
      "execution_count": 9,
      "outputs": [
        {
          "output_type": "stream",
          "name": "stdout",
          "text": [
            "[{'index': 'sWIG80', 'name': 'BBT', 'price': 22}, {'index': 'mWIG40', 'name': 'TEN', 'price': 304}, {'index': 'mWIG40', 'name': 'PLW', 'price': 309}]\n"
          ]
        }
      ]
    },
    {
      "cell_type": "code",
      "source": [
        "stocks = [\n",
        "    {'index': 'mWIG40', 'name': 'TEN', 'price': 304},\n",
        "    {'index': 'mWIG40', 'name': 'PLW', 'price': 309},\n",
        "    {'index': 'sWIG80', 'name': 'BBT', 'price': 22}\n",
        "]\n",
        "filterlist = []\n",
        "for element in stocks:\n",
        "  if element['index'] == 'mWIG40':\n",
        "    filterlist.append(element)\n",
        "print(filterlist)\n",
        "\n",
        "#using lamba function\n",
        "\n",
        "print(list(filter(lambda item: item['index'] == 'mWIG40', stocks)))"
      ],
      "metadata": {
        "colab": {
          "base_uri": "https://localhost:8080/"
        },
        "id": "NClWKRxAfMLS",
        "outputId": "7d163ab8-ce63-4abf-fc26-b96ddfed8f20"
      },
      "execution_count": 12,
      "outputs": [
        {
          "output_type": "stream",
          "name": "stdout",
          "text": [
            "[{'index': 'mWIG40', 'name': 'TEN', 'price': 304}, {'index': 'mWIG40', 'name': 'PLW', 'price': 309}]\n",
            "[{'index': 'mWIG40', 'name': 'TEN', 'price': 304}, {'index': 'mWIG40', 'name': 'PLW', 'price': 309}]\n"
          ]
        }
      ]
    },
    {
      "cell_type": "code",
      "source": [
        "stocks = [\n",
        "    {'index': 'mWIG40', 'name': 'TEN', 'price': 304},\n",
        "    {'index': 'mWIG40', 'name': 'PLW', 'price': 309},\n",
        "    {'index': 'sWIG80', 'name': 'BBT', 'price': 22}\n",
        "]\n",
        "boo = []\n",
        "for element in stocks:\n",
        "  if element['index'] == 'mWIG40':\n",
        "    boo.append(True)\n",
        "  else:\n",
        "    boo.append(False)\n",
        "\n",
        "print(boo)\n",
        "\n",
        "#using lambda function\n",
        "\n",
        "print(list(map(lambda item: item['index'] == 'mWIG40',stocks)))"
      ],
      "metadata": {
        "colab": {
          "base_uri": "https://localhost:8080/"
        },
        "id": "rJm6BZl1iMGs",
        "outputId": "fff3d05d-3ab3-4977-b8cf-1fa15a0909ab"
      },
      "execution_count": 15,
      "outputs": [
        {
          "output_type": "stream",
          "name": "stdout",
          "text": [
            "[True, True, False]\n",
            "[True, True, False]\n"
          ]
        }
      ]
    },
    {
      "cell_type": "code",
      "source": [
        "items = ['P-1', 'R-2', 'D-4', 'F-6']\n",
        "itemsnew=[]\n",
        "for element in items:\n",
        "  itemsnew.append(element.replace(\"-\",\"\"))\n",
        "print(itemsnew)\n",
        "\n",
        "#using lambda function\n",
        "\n",
        "print(list(map(lambda item: item.replace('-',''),items)))"
      ],
      "metadata": {
        "colab": {
          "base_uri": "https://localhost:8080/"
        },
        "id": "fI0fNw-2j5u-",
        "outputId": "221163ff-b098-4743-ed94-f67e1c503504"
      },
      "execution_count": 21,
      "outputs": [
        {
          "output_type": "stream",
          "name": "stdout",
          "text": [
            "['P1', 'R2', 'D4', 'F6']\n",
            "['P1', 'R2', 'D4', 'F6']\n"
          ]
        }
      ]
    },
    {
      "cell_type": "code",
      "source": [
        "num1 = [4, 2, 6, 2, 11]\n",
        "num2 = [5, 2, 3, 3, 9]\n",
        "remainders = []\n",
        "if len(num1) == len(num2):\n",
        "  for i,j in zip(num1,num2):\n",
        "    remainders.append(i%j)\n",
        "\n",
        "print(remainders)\n",
        "\n",
        "#using lambda function\n",
        "\n",
        "print(list(map(lambda x,y: x%y, num1, num2)))"
      ],
      "metadata": {
        "colab": {
          "base_uri": "https://localhost:8080/"
        },
        "id": "u3Ifd3N3lx17",
        "outputId": "f0ce7fbb-fb9e-45f6-b7a2-8957bb4d825a"
      },
      "execution_count": 25,
      "outputs": [
        {
          "output_type": "stream",
          "name": "stdout",
          "text": [
            "[4, 0, 0, 2, 2]\n",
            "[4, 0, 0, 2, 2]\n"
          ]
        }
      ]
    },
    {
      "cell_type": "code",
      "source": [
        "def file_gen(list1):\n",
        "  output = []\n",
        "  for element in list1:\n",
        "    if element.endswith(\".txt\"):\n",
        "      output.append(element)\n",
        "  return output\n",
        "\n",
        "fnames = ['data1.txt','data2.txt','data3.txt','view.jpg']\n",
        "list(file_gen(fnames))\n",
        "\n",
        "# another method using yield\n",
        "\n",
        "def file_gen(fnames):\n",
        "    for fname in fnames:\n",
        "        if fname.endswith('.txt'):\n",
        "            yield fname"
      ],
      "metadata": {
        "id": "N3YD1fuGncDc"
      },
      "execution_count": 28,
      "outputs": []
    },
    {
      "cell_type": "code",
      "source": [
        "def enum(list1):\n",
        "  tup=[]\n",
        "  for element in list1:\n",
        "    a = (list1.index(element),element)\n",
        "    tup.append(a)\n",
        "  return tup\n",
        "\n",
        "enum(['TEN','CDR','BBT'])\n",
        "\n",
        "#another method using yield\n",
        "\n",
        "def enum(items):\n",
        "    idx = 0\n",
        "    for item in items:\n",
        "        yield (idx, item)\n",
        "        idx += 1"
      ],
      "metadata": {
        "colab": {
          "base_uri": "https://localhost:8080/"
        },
        "id": "3CUt7LRApZg4",
        "outputId": "1ca18403-1554-45b1-be30-53c613f10079"
      },
      "execution_count": 34,
      "outputs": [
        {
          "output_type": "execute_result",
          "data": {
            "text/plain": [
              "[(0, 'TEN'), (1, 'CDR'), (2, 'BBT')]"
            ]
          },
          "metadata": {},
          "execution_count": 34
        }
      ]
    },
    {
      "cell_type": "code",
      "source": [
        "def dayname(idx):\n",
        "  days = ['Mon', 'Tue', 'Wed', 'Thu', 'Fri', 'Sat', 'Sun']\n",
        "  yield days[idx -1]\n",
        "  yield days[idx]\n",
        "  yield days[(idx +1)%7]\n",
        "\n",
        "for pair in dayname(6):\n",
        "  print(pair)\n",
        "  "
      ],
      "metadata": {
        "colab": {
          "base_uri": "https://localhost:8080/"
        },
        "id": "zQ-01OkCrJcg",
        "outputId": "4e0b7c14-3c7b-4652-bde7-1c0cc315a530"
      },
      "execution_count": 38,
      "outputs": [
        {
          "output_type": "stream",
          "name": "stdout",
          "text": [
            "Sat\n",
            "Sun\n",
            "Mon\n"
          ]
        }
      ]
    },
    {
      "cell_type": "markdown",
      "source": [
        "###Transformation of Data Structures"
      ],
      "metadata": {
        "id": "KbnbcJQYsazr"
      }
    },
    {
      "cell_type": "markdown",
      "source": [
        "1.Consider the two-roll of the dice.Create the probability space(omega) and count the probability of getting a sum of points higher than 10. Use set comprehension."
      ],
      "metadata": {
        "id": "Zrb7VQBe72eK"
      }
    },
    {
      "cell_type": "code",
      "source": [
        "omega = {(i,j) for i in range(1,7) for j in range(1,7)}\n",
        "sum_gt_10 = {pair for pair in omega if pair[0] + pair[1] > 10}\n",
        "print(len(omega))\n",
        "print(len(sum_gt_10))\n",
        "print(f'Probability: {len(sum_gt_10) / len(omega):.2f}')"
      ],
      "metadata": {
        "colab": {
          "base_uri": "https://localhost:8080/"
        },
        "id": "pd8GvCVrsmDP",
        "outputId": "70cec0d5-d302-4887-8217-466868cde887"
      },
      "execution_count": 5,
      "outputs": [
        {
          "output_type": "stream",
          "name": "stdout",
          "text": [
            "36\n",
            "3\n",
            "Probability: 0.08\n"
          ]
        }
      ]
    },
    {
      "cell_type": "code",
      "source": [
        "desc = \"Playway: Playway is a producer of computer games.\"\n",
        "print(len(set(desc.lower().replace(\":\",\"\").replace(\".\",\"\").split())))"
      ],
      "metadata": {
        "colab": {
          "base_uri": "https://localhost:8080/"
        },
        "id": "pnpnDLBN-IWh",
        "outputId": "c8210362-e6bd-4e00-882f-b12ca69f8cbe"
      },
      "execution_count": 11,
      "outputs": [
        {
          "output_type": "stream",
          "name": "stdout",
          "text": [
            "7\n"
          ]
        }
      ]
    },
    {
      "cell_type": "markdown",
      "source": [
        "2.Consider the two-roll of dice. Create the probability space(omega) and calculate the probability of getting a sum of squares higher or equal to 45. Use set comprehension. Round the result to two decimal places and print the result."
      ],
      "metadata": {
        "id": "oCi6UYYd_4DF"
      }
    },
    {
      "cell_type": "code",
      "source": [
        "omega = {(i,j) for i in range(1,7) for j in range(1,7)}\n",
        "sum_sq_45 = {pair for pair in omega if (pair[0]**2)+(pair[1]**2) >= 45}\n",
        "print(len(omega))\n",
        "print(len(sum_sq_45))\n",
        "print(f\"Probability: {len(sum_sq_45) / (len(omega)):.2f}\")"
      ],
      "metadata": {
        "colab": {
          "base_uri": "https://localhost:8080/"
        },
        "id": "-3h3j7Sh_yZF",
        "outputId": "99a64272-660b-4861-9f50-9c3754ae3ff3"
      },
      "execution_count": 15,
      "outputs": [
        {
          "output_type": "stream",
          "name": "stdout",
          "text": [
            "36\n",
            "8\n",
            "Probability: 0.22\n"
          ]
        }
      ]
    },
    {
      "cell_type": "markdown",
      "source": [
        "3.consider a three-roll of the dice. Create the probability space(omega) and calculate the probability of obtaining three values which the sum is divisible by 7. use set comprehension. Round the result to two decimal places and print the result. "
      ],
      "metadata": {
        "id": "DBaW12eBCHGB"
      }
    },
    {
      "cell_type": "code",
      "source": [
        "omega = {(i,j,k) for i in range(1,7) for j in range(1,7) for k in range(1,7)}\n",
        "sum_div_7 = {pair for pair in omega if (pair[0]+pair[1]+pair[2]) % 7 == 0 }\n",
        "print(len(omega))\n",
        "print(len(sum_div_7))\n",
        "print(f'Probability: {len(sum_div_7)/len(omega):.2f}')"
      ],
      "metadata": {
        "colab": {
          "base_uri": "https://localhost:8080/"
        },
        "id": "fAuo5S23Du3Y",
        "outputId": "7f66dfff-4135-4129-f5db-7be9520c4305"
      },
      "execution_count": 19,
      "outputs": [
        {
          "output_type": "stream",
          "name": "stdout",
          "text": [
            "216\n",
            "30\n",
            "Probability: 0.14\n"
          ]
        }
      ]
    },
    {
      "cell_type": "markdown",
      "source": [
        "4.Calculate the probability that in three throws of symmentrical cubic dice, the sum of the squares of point will be divisible by 3. use set comprehension. round the result upto fourth decimal place and print result.\n"
      ],
      "metadata": {
        "id": "dM6ZoxvhFcbb"
      }
    },
    {
      "cell_type": "code",
      "source": [
        "omega = {(i,j,k) for i in range(1,7) for j in range(1,7) for k in range(1,7)}\n",
        "sum_div_3 = {pair for pair in omega if (pair[0]**2 + pair[1]**2 + pair[2]**2) % 3 == 0 }\n",
        "print(f'Probability: {len(sum_div_3)/len(omega):.4f}')"
      ],
      "metadata": {
        "colab": {
          "base_uri": "https://localhost:8080/"
        },
        "id": "TeIb28duGAup",
        "outputId": "eb1eaf6e-d299-4a74-cb7c-6f3c31dc4d06"
      },
      "execution_count": 21,
      "outputs": [
        {
          "output_type": "stream",
          "name": "stdout",
          "text": [
            "Probability: 0.3333\n"
          ]
        }
      ]
    },
    {
      "cell_type": "markdown",
      "source": [
        "5.We roll the Symmetrical dice three times. Calculate the probability of odd number of points in each roll. use set comprehension. round these result to three decimal places and print. "
      ],
      "metadata": {
        "id": "5l0GVZn9HDVK"
      }
    },
    {
      "cell_type": "code",
      "source": [
        "omega = {(i,j,k) for i in range(1,7) for j in range(1,7) for k in range(1,7)}\n",
        "odd = {pair for pair in omega if pair[0] % 2 != 0 and pair[1] % 2 !=0 and pair[2] % 2 != 0 }\n",
        "print(f'Probability: {len(odd) / len(omega):.3f}')"
      ],
      "metadata": {
        "colab": {
          "base_uri": "https://localhost:8080/"
        },
        "id": "o2bI_cHcHrk7",
        "outputId": "61ea349e-b900-4b37-f6f9-84d6b3fc2305"
      },
      "execution_count": 3,
      "outputs": [
        {
          "output_type": "stream",
          "name": "stdout",
          "text": [
            "Probability: 0.125\n"
          ]
        }
      ]
    },
    {
      "cell_type": "code",
      "source": [
        "with open(\"gaming.txt\",\"w\") as game:\n",
        "  game.write(\"Activision Blizzard\\n\")\n",
        "  game.write(\"\\n\")\n",
        "  game.write(\"Activision Blizzard, Inc. is a developer and publisher of interactive entertainment content and services. The Company develops and distributes content and services across various gaming platforms,\")\n",
        "  game.write(\"including video game consoles, personal computers (PC) and mobile devices. Its segments include Activision Publishing, Inc. (Activision), Blizzard Entertainment, Inc. (Blizzard),\")\n",
        "  game.write(\"King Digital Entertainment (King) and Other. Activision is a developer and publisher of interactive software products and content. Blizzard is engaged in developing and publishing of interactive\")\n",
        "  game.write(\"software products and entertainment content, particularly in PC gaming. King is a mobile entertainment company. It is engaged in other businesses, including The Major League Gaming (MLG) business;\")\n",
        "  game.write(\"The Activision Blizzard Studios (Studios) business, and The Activision Blizzard Distribution (Distribution) business. It also develops products spanning other genres, including action/adventure,\")\n",
        "  game.write(\"role-playing and simulation.\")\n",
        "\n",
        "with open(\"gaming.txt\",\"r\") as gameread:\n",
        "  text= gameread.readlines()\n",
        "\n",
        "text = [line.replace('\\n','') for line in text]\n",
        "text = [line for line in text if len(line) > 0]\n",
        "print(text)\n",
        "\n"
      ],
      "metadata": {
        "colab": {
          "base_uri": "https://localhost:8080/"
        },
        "id": "7zawW3-CoWxV",
        "outputId": "51805560-95fd-44f0-c435-0e10c71eac99"
      },
      "execution_count": 8,
      "outputs": [
        {
          "output_type": "stream",
          "name": "stdout",
          "text": [
            "['Activision Blizzard', 'Activision Blizzard, Inc. is a developer and publisher of interactive entertainment content and services. The Company develops and distributes content and services across various gaming platforms,including video game consoles, personal computers (PC) and mobile devices. Its segments include Activision Publishing, Inc. (Activision), Blizzard Entertainment, Inc. (Blizzard),King Digital Entertainment (King) and Other. Activision is a developer and publisher of interactive software products and content. Blizzard is engaged in developing and publishing of interactivesoftware products and entertainment content, particularly in PC gaming. King is a mobile entertainment company. It is engaged in other businesses, including The Major League Gaming (MLG) business;The Activision Blizzard Studios (Studios) business, and The Activision Blizzard Distribution (Distribution) business. It also develops products spanning other genres, including action/adventure,role-playing and simulation.']\n"
          ]
        }
      ]
    },
    {
      "cell_type": "code",
      "source": [
        "tax = 0.23\n",
        "net_price = [5.5, 4.0, 9.0, 10.0]\n",
        "gross_price = [round(nprice*(1+tax),2) for nprice in net_price]\n",
        "print(gross_price)"
      ],
      "metadata": {
        "colab": {
          "base_uri": "https://localhost:8080/"
        },
        "id": "xkOyMkUFsId_",
        "outputId": "f3389ccb-c41f-447e-ef41-10ea0294cbf3"
      },
      "execution_count": 12,
      "outputs": [
        {
          "output_type": "stream",
          "name": "stdout",
          "text": [
            "[6.76, 4.92, 11.07, 12.3]\n"
          ]
        }
      ]
    },
    {
      "cell_type": "code",
      "source": [
        "pv = 1000\n",
        "n = 10\n",
        "rate = [0.01, 0.02, 0.03, 0.04, 0.05, 0.06, 0.07]\n",
        "fvs = [round(pv * (1+r)**n,2) for r in rate]\n",
        "intrest = [round(fv - pv,2) for fv in fvs]\n",
        "print(intrest)\n",
        "print(fvs)"
      ],
      "metadata": {
        "colab": {
          "base_uri": "https://localhost:8080/"
        },
        "id": "DsUSuYxutE50",
        "outputId": "5de6aa94-fff1-4c79-effc-cd0802c08eab"
      },
      "execution_count": 14,
      "outputs": [
        {
          "output_type": "stream",
          "name": "stdout",
          "text": [
            "[104.62, 218.99, 343.92, 480.24, 628.89, 790.85, 967.15]\n",
            "[1104.62, 1218.99, 1343.92, 1480.24, 1628.89, 1790.85, 1967.15]\n"
          ]
        }
      ]
    },
    {
      "cell_type": "code",
      "source": [
        "with open(\"plw.txt\",\"w\") as f:\n",
        "  f.write(\"PLAYWAY\\n\")\n",
        "  f.write(\"\\n\")\n",
        "  f.write(\"PlayWay is a producer and publisher of computer and mobile games. The company is characterized by a very large number of development teams and a large number of games produced simultaneously.\")\n",
        "  f.write(\"PlayWay sells, among others via the STEAM portal, AppStore and GooglePlay. The US and German markets are the two largest markets for the Group's sales.\")\n",
        "  f.write(\"In addition, the company has PlayWay Campus - a campus for cooperating development teams.\")\n",
        "\n",
        "with open(\"plw.txt\",\"r\") as R:\n",
        "  lines = R.read().splitlines()\n",
        "\n",
        "lines = [line for line in lines if len(line) > 0]\n",
        "lines = [line.split() for line in lines]\n",
        "print(lines)"
      ],
      "metadata": {
        "colab": {
          "base_uri": "https://localhost:8080/"
        },
        "id": "jMJz1fRCtuf0",
        "outputId": "f1fa9f50-bde5-414b-bca3-23ebb18713a8"
      },
      "execution_count": 19,
      "outputs": [
        {
          "output_type": "stream",
          "name": "stdout",
          "text": [
            "[['PLAYWAY'], ['PlayWay', 'is', 'a', 'producer', 'and', 'publisher', 'of', 'computer', 'and', 'mobile', 'games.', 'The', 'company', 'is', 'characterized', 'by', 'a', 'very', 'large', 'number', 'of', 'development', 'teams', 'and', 'a', 'large', 'number', 'of', 'games', 'produced', 'simultaneously.PlayWay', 'sells,', 'among', 'others', 'via', 'the', 'STEAM', 'portal,', 'AppStore', 'and', 'GooglePlay.', 'The', 'US', 'and', 'German', 'markets', 'are', 'the', 'two', 'largest', 'markets', 'for', 'the', \"Group's\", 'sales.In', 'addition,', 'the', 'company', 'has', 'PlayWay', 'Campus', '-', 'a', 'campus', 'for', 'cooperating', 'development', 'teams.']]\n"
          ]
        }
      ]
    },
    {
      "cell_type": "code",
      "source": [
        "with open(\"plw.txt\",\"w\") as f:\n",
        "  f.write(\"PLAYWAY\\n\")\n",
        "  f.write(\"\\n\")\n",
        "  f.write(\"PlayWay is a producer and publisher of computer and mobile games. The company is characterized by a very large number of development teams and a large number of games produced simultaneously.\")\n",
        "  f.write(\"PlayWay sells, among others via the STEAM portal, AppStore and GooglePlay. The US and German markets are the two largest markets for the Group's sales.\")\n",
        "  f.write(\"In addition, the company has PlayWay Campus - a campus for cooperating development teams.\")\n",
        "\n",
        "with open(\"plw.txt\",\"r\") as R:\n",
        "  lines = R.read()\n",
        "\n",
        "lines = lines.lower()\n",
        "lines = lines.replace(\",\",\"\").replace(\".\",\"\")\n",
        "tokens = lines.split()\n",
        "tokens = [token for token in tokens if len(token) > 7]\n",
        "tokens.sort()\n",
        "print(tokens)"
      ],
      "metadata": {
        "colab": {
          "base_uri": "https://localhost:8080/"
        },
        "id": "Ddm6mc-FykJT",
        "outputId": "6bc70547-00ac-4daf-ad51-bad1fce05688"
      },
      "execution_count": 32,
      "outputs": [
        {
          "output_type": "stream",
          "name": "stdout",
          "text": [
            "['addition', 'appstore', 'characterized', 'computer', 'cooperating', 'development', 'development', 'googleplay', 'produced', 'producer', 'publisher', 'simultaneouslyplayway']\n"
          ]
        }
      ]
    },
    {
      "cell_type": "code",
      "source": [
        "data = dict(zip(('a', 'b', 'c', 'd', 'e', 'f'),(1, 2, 3, 4, 5, 6)))\n",
        "result = [[key,val] for key,val in data.items()]\n",
        "print(result)"
      ],
      "metadata": {
        "colab": {
          "base_uri": "https://localhost:8080/"
        },
        "id": "48YU3mQd11YR",
        "outputId": "4ec2b688-91a0-4f82-a52a-4502a7201c9c"
      },
      "execution_count": 36,
      "outputs": [
        {
          "output_type": "stream",
          "name": "stdout",
          "text": [
            "[['a', 1], ['b', 2], ['c', 3], ['d', 4], ['e', 5], ['f', 6]]\n"
          ]
        }
      ]
    },
    {
      "cell_type": "code",
      "source": [
        "data = {key:key**2 for key in range(1,8) }\n",
        "print(data)"
      ],
      "metadata": {
        "colab": {
          "base_uri": "https://localhost:8080/"
        },
        "id": "B5AYJK6-2A_0",
        "outputId": "badede02-741c-4c06-eb44-3710809877bb"
      },
      "execution_count": 43,
      "outputs": [
        {
          "output_type": "stream",
          "name": "stdout",
          "text": [
            "{1: 1, 2: 4, 3: 9, 4: 16, 5: 25, 6: 36, 7: 49}\n"
          ]
        }
      ]
    },
    {
      "cell_type": "code",
      "source": [
        "stocks = ['Playway', 'CD Projekt', 'Boombit']\n",
        "data = {char: len(char) for char in stocks}\n",
        "print(data)"
      ],
      "metadata": {
        "colab": {
          "base_uri": "https://localhost:8080/"
        },
        "id": "khhvmdTt2AmV",
        "outputId": "7c1c3044-4be2-4964-e698-093731ead73c"
      },
      "execution_count": 44,
      "outputs": [
        {
          "output_type": "stream",
          "name": "stdout",
          "text": [
            "{'Playway': 7, 'CD Projekt': 10, 'Boombit': 7}\n"
          ]
        }
      ]
    },
    {
      "cell_type": "code",
      "source": [
        "stocks = {'Boombit': '001', 'CD Projekt': '002', 'Playway': '003'}\n",
        "print(stocks)\n",
        "data ={value:key for key,value in stocks.items()}\n",
        "print(data)"
      ],
      "metadata": {
        "colab": {
          "base_uri": "https://localhost:8080/"
        },
        "id": "6rF-0Iq4419U",
        "outputId": "507d98c8-11e3-4667-e69b-dbc371b66302"
      },
      "execution_count": 50,
      "outputs": [
        {
          "output_type": "stream",
          "name": "stdout",
          "text": [
            "{'Boombit': '001', 'CD Projekt': '002', 'Playway': '003'}\n",
            "{'001': 'Boombit', '002': 'CD Projekt', '003': 'Playway'}\n"
          ]
        }
      ]
    },
    {
      "cell_type": "code",
      "source": [
        "stocks = {'Boombit': 22, 'CD Projekt': 295, 'Playway': 350}\n",
        "data ={key:value for key,value in stocks.items() if value >= 100}\n",
        "print(data)"
      ],
      "metadata": {
        "colab": {
          "base_uri": "https://localhost:8080/"
        },
        "id": "OQ3yGD7W411x",
        "outputId": "64ed787c-3e29-47cd-fe44-30da5400aaeb"
      },
      "execution_count": 51,
      "outputs": [
        {
          "output_type": "stream",
          "name": "stdout",
          "text": [
            "{'CD Projekt': 295, 'Playway': 350}\n"
          ]
        }
      ]
    },
    {
      "cell_type": "markdown",
      "source": [
        "****Important****"
      ],
      "metadata": {
        "id": "M3qlceuJ7a5U"
      }
    },
    {
      "cell_type": "code",
      "source": [
        "data = [{i: i**j for i in range(1,10)} for j in range(1,4)]\n",
        "print(data)"
      ],
      "metadata": {
        "colab": {
          "base_uri": "https://localhost:8080/"
        },
        "id": "vdof-z0l6MD9",
        "outputId": "7f558d82-7602-4445-df4b-32ba66dd70b4"
      },
      "execution_count": 52,
      "outputs": [
        {
          "output_type": "stream",
          "name": "stdout",
          "text": [
            "[{1: 1, 2: 2, 3: 3, 4: 4, 5: 5, 6: 6, 7: 7, 8: 8, 9: 9}, {1: 1, 2: 4, 3: 9, 4: 16, 5: 25, 6: 36, 7: 49, 8: 64, 9: 81}, {1: 1, 2: 8, 3: 27, 4: 64, 5: 125, 6: 216, 7: 343, 8: 512, 9: 729}]\n"
          ]
        }
      ]
    },
    {
      "cell_type": "markdown",
      "source": [
        "****Important****"
      ],
      "metadata": {
        "id": "iJulOdh9824l"
      }
    },
    {
      "cell_type": "code",
      "source": [
        "properties = ['number of companies', 'companies', 'cap']\n",
        "indeks = ['WIG20', 'mWIG40', 'sWIG80']\n",
        "data = {key: {value: None for value in properties} for key in indeks}\n",
        "print(data)"
      ],
      "metadata": {
        "colab": {
          "base_uri": "https://localhost:8080/"
        },
        "id": "nmofkrdN7fpv",
        "outputId": "d3d7d66e-cc28-4756-b351-990e206ef39f"
      },
      "execution_count": 55,
      "outputs": [
        {
          "output_type": "stream",
          "name": "stdout",
          "text": [
            "{'WIG20': {'number of companies': None, 'companies': None, 'cap': None}, 'mWIG40': {'number of companies': None, 'companies': None, 'cap': None}, 'sWIG80': {'number of companies': None, 'companies': None, 'cap': None}}\n"
          ]
        }
      ]
    },
    {
      "cell_type": "code",
      "source": [
        "indexes = ['WIG20', 'mWIG40', 'sWIG80']\n",
        "data = {indexes.index(element): element for element in indexes}\n",
        "print(data)\n",
        "\n",
        "## another menthod\n",
        "data = {key: val for key, val in enumerate(indexes)}\n",
        "print(data)"
      ],
      "metadata": {
        "colab": {
          "base_uri": "https://localhost:8080/"
        },
        "id": "_OiyhSjt8-fC",
        "outputId": "e02cfc37-8fab-4590-c3d8-b14a8e3d52e2"
      },
      "execution_count": 56,
      "outputs": [
        {
          "output_type": "stream",
          "name": "stdout",
          "text": [
            "{0: 'WIG20', 1: 'mWIG40', 2: 'sWIG80'}\n"
          ]
        }
      ]
    },
    {
      "cell_type": "markdown",
      "source": [
        "###Built-in packages"
      ],
      "metadata": {
        "id": "yfPhonGR92s2"
      }
    },
    {
      "cell_type": "markdown",
      "source": [
        "****Calendar****"
      ],
      "metadata": {
        "id": "AeUbBB4WbF4z"
      }
    },
    {
      "cell_type": "code",
      "source": [
        "import calendar as cal\n",
        "print(cal.calendar(2022))"
      ],
      "metadata": {
        "colab": {
          "base_uri": "https://localhost:8080/"
        },
        "id": "6EE0T5eI9-Ap",
        "outputId": "43fbf08a-60c2-4c3a-bf9d-dd92a290a715"
      },
      "execution_count": 60,
      "outputs": [
        {
          "output_type": "stream",
          "name": "stdout",
          "text": [
            "                                  2022\n",
            "\n",
            "      January                   February                   March\n",
            "Mo Tu We Th Fr Sa Su      Mo Tu We Th Fr Sa Su      Mo Tu We Th Fr Sa Su\n",
            "                1  2          1  2  3  4  5  6          1  2  3  4  5  6\n",
            " 3  4  5  6  7  8  9       7  8  9 10 11 12 13       7  8  9 10 11 12 13\n",
            "10 11 12 13 14 15 16      14 15 16 17 18 19 20      14 15 16 17 18 19 20\n",
            "17 18 19 20 21 22 23      21 22 23 24 25 26 27      21 22 23 24 25 26 27\n",
            "24 25 26 27 28 29 30      28                        28 29 30 31\n",
            "31\n",
            "\n",
            "       April                      May                       June\n",
            "Mo Tu We Th Fr Sa Su      Mo Tu We Th Fr Sa Su      Mo Tu We Th Fr Sa Su\n",
            "             1  2  3                         1             1  2  3  4  5\n",
            " 4  5  6  7  8  9 10       2  3  4  5  6  7  8       6  7  8  9 10 11 12\n",
            "11 12 13 14 15 16 17       9 10 11 12 13 14 15      13 14 15 16 17 18 19\n",
            "18 19 20 21 22 23 24      16 17 18 19 20 21 22      20 21 22 23 24 25 26\n",
            "25 26 27 28 29 30         23 24 25 26 27 28 29      27 28 29 30\n",
            "                          30 31\n",
            "\n",
            "        July                     August                  September\n",
            "Mo Tu We Th Fr Sa Su      Mo Tu We Th Fr Sa Su      Mo Tu We Th Fr Sa Su\n",
            "             1  2  3       1  2  3  4  5  6  7                1  2  3  4\n",
            " 4  5  6  7  8  9 10       8  9 10 11 12 13 14       5  6  7  8  9 10 11\n",
            "11 12 13 14 15 16 17      15 16 17 18 19 20 21      12 13 14 15 16 17 18\n",
            "18 19 20 21 22 23 24      22 23 24 25 26 27 28      19 20 21 22 23 24 25\n",
            "25 26 27 28 29 30 31      29 30 31                  26 27 28 29 30\n",
            "\n",
            "      October                   November                  December\n",
            "Mo Tu We Th Fr Sa Su      Mo Tu We Th Fr Sa Su      Mo Tu We Th Fr Sa Su\n",
            "                1  2          1  2  3  4  5  6                1  2  3  4\n",
            " 3  4  5  6  7  8  9       7  8  9 10 11 12 13       5  6  7  8  9 10 11\n",
            "10 11 12 13 14 15 16      14 15 16 17 18 19 20      12 13 14 15 16 17 18\n",
            "17 18 19 20 21 22 23      21 22 23 24 25 26 27      19 20 21 22 23 24 25\n",
            "24 25 26 27 28 29 30      28 29 30                  26 27 28 29 30 31\n",
            "31\n",
            "\n"
          ]
        }
      ]
    },
    {
      "cell_type": "code",
      "source": [
        "import calendar as cal\n",
        "print(cal.month(2022,6))"
      ],
      "metadata": {
        "colab": {
          "base_uri": "https://localhost:8080/"
        },
        "id": "E7MG7oSJZluk",
        "outputId": "74632c00-d366-4b34-816f-e7e13df14bf0"
      },
      "execution_count": 62,
      "outputs": [
        {
          "output_type": "stream",
          "name": "stdout",
          "text": [
            "     June 2022\n",
            "Mo Tu We Th Fr Sa Su\n",
            "       1  2  3  4  5\n",
            " 6  7  8  9 10 11 12\n",
            "13 14 15 16 17 18 19\n",
            "20 21 22 23 24 25 26\n",
            "27 28 29 30\n",
            "\n"
          ]
        }
      ]
    },
    {
      "cell_type": "markdown",
      "source": [
        "****Datetime****"
      ],
      "metadata": {
        "id": "lde7SIODbKqw"
      }
    },
    {
      "cell_type": "code",
      "source": [
        "from datetime import date\n",
        "date1 = date(2020, 6, 1)\n",
        "date2 = date(2020, 7, 18)\n",
        "diff = date2 - date1\n",
        "print(diff)"
      ],
      "metadata": {
        "colab": {
          "base_uri": "https://localhost:8080/"
        },
        "id": "lxT_4gjIaL3f",
        "outputId": "9a306fc7-3842-4419-cc48-e612d97980d4"
      },
      "execution_count": 64,
      "outputs": [
        {
          "output_type": "stream",
          "name": "stdout",
          "text": [
            "47 days, 0:00:00\n"
          ]
        }
      ]
    },
    {
      "cell_type": "markdown",
      "source": [
        "****Regular Expression****"
      ],
      "metadata": {
        "id": "cxudz_7GbP7y"
      }
    },
    {
      "cell_type": "code",
      "source": [
        "import re\n",
        "\n",
        "string = 'Python 3.8'\n",
        "result = re.findall('\\d',string)\n",
        "print(result)"
      ],
      "metadata": {
        "colab": {
          "base_uri": "https://localhost:8080/"
        },
        "id": "JIeNDDTCbV9O",
        "outputId": "40aac363-9c55-4cea-99f4-3bbbc088a7e0"
      },
      "execution_count": 67,
      "outputs": [
        {
          "output_type": "stream",
          "name": "stdout",
          "text": [
            "['3', '8']\n"
          ]
        }
      ]
    },
    {
      "cell_type": "code",
      "source": [
        "import re\n",
        "string = '!@#$%^&45wc'\n",
        "result = re.findall('\\w',string)\n",
        "print(result)"
      ],
      "metadata": {
        "colab": {
          "base_uri": "https://localhost:8080/"
        },
        "id": "sGmJL5ORb-n9",
        "outputId": "d3f69270-8503-44d3-f7f7-947d1663ecd0"
      },
      "execution_count": 68,
      "outputs": [
        {
          "output_type": "stream",
          "name": "stdout",
          "text": [
            "['4', '5', 'w', 'c']\n"
          ]
        }
      ]
    },
    {
      "cell_type": "code",
      "source": [
        "import re\n",
        "\n",
        "raw_text = \"Send an email to info@template.com or sales-info@template.it\"\n",
        "result = re.findall(r'[\\w\\.-]+@[\\w\\.-]+', raw_text)\n",
        "print(result)"
      ],
      "metadata": {
        "colab": {
          "base_uri": "https://localhost:8080/"
        },
        "id": "IwZpqaEocu_W",
        "outputId": "08fdc2fd-637a-40a1-99dd-7c1a1b2137a8"
      },
      "execution_count": 81,
      "outputs": [
        {
          "output_type": "stream",
          "name": "stdout",
          "text": [
            "['info@template.com', 'sales-info@template.it']\n"
          ]
        }
      ]
    },
    {
      "cell_type": "code",
      "source": [
        "import re\n",
        "\n",
        "text = 'Programming in Python - from A to Z'\n",
        "result = re.split(\" \", text)\n",
        "print(result)"
      ],
      "metadata": {
        "colab": {
          "base_uri": "https://localhost:8080/"
        },
        "id": "X_Y1OnlodvE6",
        "outputId": "0fc95422-3421-4427-dc00-9c04694db0b0"
      },
      "execution_count": 83,
      "outputs": [
        {
          "output_type": "stream",
          "name": "stdout",
          "text": [
            "['Programming', 'in', 'Python', '-', 'from', 'A', 'to', 'Z']\n"
          ]
        }
      ]
    },
    {
      "cell_type": "markdown",
      "source": [
        "****String****"
      ],
      "metadata": {
        "id": "LpkKpUrTe8mu"
      }
    },
    {
      "cell_type": "code",
      "source": [
        "import string\n",
        "\n",
        "print(string.ascii_letters)\n"
      ],
      "metadata": {
        "colab": {
          "base_uri": "https://localhost:8080/"
        },
        "id": "3S_l4L0NelNC",
        "outputId": "cc5e14d1-e335-40f3-8d37-baa6fefc3f74"
      },
      "execution_count": 84,
      "outputs": [
        {
          "output_type": "stream",
          "name": "stdout",
          "text": [
            "abcdefghijklmnopqrstuvwxyzABCDEFGHIJKLMNOPQRSTUVWXYZ\n"
          ]
        }
      ]
    },
    {
      "cell_type": "markdown",
      "source": [
        "****Counter****"
      ],
      "metadata": {
        "id": "8mFdU2HQfv5J"
      }
    },
    {
      "cell_type": "code",
      "source": [
        "from collections import Counter\n",
        "\n",
        "counter = Counter()\n",
        "items = ['YES', 'NO', 'NO', 'YES', 'EMPTY', 'YES', 'NO']\n",
        "\n",
        "for item in items:\n",
        "  counter[item] += 1\n",
        "print(counter)\n"
      ],
      "metadata": {
        "colab": {
          "base_uri": "https://localhost:8080/"
        },
        "id": "uHJX-ioGe_qz",
        "outputId": "d1e66e6a-8134-4b08-8ba9-b24400164e14"
      },
      "execution_count": 85,
      "outputs": [
        {
          "output_type": "stream",
          "name": "stdout",
          "text": [
            "Counter({'YES': 3, 'NO': 3, 'EMPTY': 1})\n"
          ]
        }
      ]
    },
    {
      "cell_type": "markdown",
      "source": [
        "****Math****"
      ],
      "metadata": {
        "id": "mztRs2A1f-yR"
      }
    },
    {
      "cell_type": "code",
      "source": [
        "import math\n",
        "\n",
        "def sigmoid(x):\n",
        "  return 1 / (1 + math.exp(-x))\n",
        "\n",
        "print(sigmoid(2))"
      ],
      "metadata": {
        "colab": {
          "base_uri": "https://localhost:8080/"
        },
        "id": "bKfyARyIfzNG",
        "outputId": "8c656000-9955-4f67-db57-6ec8f11fdd7f"
      },
      "execution_count": 87,
      "outputs": [
        {
          "output_type": "stream",
          "name": "stdout",
          "text": [
            "0.8807970779778823\n"
          ]
        }
      ]
    },
    {
      "cell_type": "markdown",
      "source": [
        "****Random****"
      ],
      "metadata": {
        "id": "vTe677nMg16T"
      }
    },
    {
      "cell_type": "code",
      "source": [
        "import random\n",
        "\n",
        "random.seed(12)\n",
        "\n",
        "items = ['python', 'java', 'sql', 'c++', 'c']\n",
        "\n",
        "choice = random.choice(items)\n",
        "print(choice)"
      ],
      "metadata": {
        "colab": {
          "base_uri": "https://localhost:8080/"
        },
        "id": "weEcCrUDg5yb",
        "outputId": "2209ebc4-74ab-41f3-fde5-8fcce0c02a97"
      },
      "execution_count": 88,
      "outputs": [
        {
          "output_type": "stream",
          "name": "stdout",
          "text": [
            "c++\n"
          ]
        }
      ]
    },
    {
      "cell_type": "code",
      "source": [
        "import random\n",
        "\n",
        "random.seed(15)\n",
        "\n",
        "items = ['python', 'java', 'sql', 'c++', 'c']\n",
        "\n",
        "random.shuffle(items)\n",
        "print(items)"
      ],
      "metadata": {
        "colab": {
          "base_uri": "https://localhost:8080/"
        },
        "id": "yEeVTfn4ihXQ",
        "outputId": "d7f47ead-b00f-4e0f-9551-ae4e7f7d7429"
      },
      "execution_count": 89,
      "outputs": [
        {
          "output_type": "stream",
          "name": "stdout",
          "text": [
            "['c', 'c++', 'sql', 'python', 'java']\n"
          ]
        }
      ]
    },
    {
      "cell_type": "markdown",
      "source": [
        "****Pickle****"
      ],
      "metadata": {
        "id": "djc4SKjIi_fQ"
      }
    },
    {
      "cell_type": "code",
      "source": [
        "import pickle\n",
        "\n",
        "ids = ['001', '003', '011']\n",
        "\n",
        "with open('data.pickle', 'wb') as file:\n",
        "  pickle.dump(ids, file)"
      ],
      "metadata": {
        "id": "OOCUZSATi5eX"
      },
      "execution_count": 95,
      "outputs": []
    },
    {
      "cell_type": "markdown",
      "source": [
        "****JSON****"
      ],
      "metadata": {
        "id": "75hssw6Zj5fL"
      }
    },
    {
      "cell_type": "code",
      "source": [
        "import json\n",
        "\n",
        "stocks = {'PLW': 360.0, 'TEN': 320.0, 'CDR': 329.0}\n",
        "result = json.dumps(stocks, sort_keys= True,indent=4)\n",
        "print(result)"
      ],
      "metadata": {
        "colab": {
          "base_uri": "https://localhost:8080/"
        },
        "id": "ugEUpWMVj5Lo",
        "outputId": "496fadca-3571-4f7d-f83d-eaaf1cab0f5c"
      },
      "execution_count": 94,
      "outputs": [
        {
          "output_type": "stream",
          "name": "stdout",
          "text": [
            "{\n",
            "    \"CDR\": 329.0,\n",
            "    \"PLW\": 360.0,\n",
            "    \"TEN\": 320.0\n",
            "}\n"
          ]
        }
      ]
    },
    {
      "cell_type": "markdown",
      "source": [
        "###Summary"
      ],
      "metadata": {
        "id": "n4gr-o1Lk5Bs"
      }
    },
    {
      "cell_type": "markdown",
      "source": [
        "1. Accuracy predication model.\n"
      ],
      "metadata": {
        "id": "BbYLGL5j54UM"
      }
    },
    {
      "cell_type": "code",
      "source": [
        "y_true = [0, 0, 1, 1, 0, 1, 0]\n",
        "y_pred = [0, 0, 1, 0, 0, 1, 0]\n",
        "def accuracy(y_true,y_pred):\n",
        "  counter = 0\n",
        "  for i, j in zip(y_true,y_pred):\n",
        "    if i == j:\n",
        "      counter += 1\n",
        "  return round(counter / len(y_true) , 4)\n",
        "\n",
        "print(accuracy(y_true,y_pred))"
      ],
      "metadata": {
        "colab": {
          "base_uri": "https://localhost:8080/"
        },
        "id": "u11rc4QA530P",
        "outputId": "e08b2694-32c9-4443-bc8d-996eae13b6ec"
      },
      "execution_count": 1,
      "outputs": [
        {
          "output_type": "stream",
          "name": "stdout",
          "text": [
            "0.8571\n"
          ]
        }
      ]
    },
    {
      "cell_type": "markdown",
      "source": [
        "2. MAE- Mean Absolute Error to check accuracy of the Machine learning model."
      ],
      "metadata": {
        "id": "sETVRpSx7EFJ"
      }
    },
    {
      "cell_type": "code",
      "source": [
        "def mae(y_true,y_pred):\n",
        "  return round(sum([abs(i[1] -i[0]) for i in zip(y_true, y_pred)]) / len(y_true),3)"
      ],
      "metadata": {
        "id": "UrEMyaJIlAqk"
      },
      "execution_count": 2,
      "outputs": []
    },
    {
      "cell_type": "markdown",
      "source": [
        "3. MSE-Mean Squared Error to check the accuracy of the machine learning model."
      ],
      "metadata": {
        "id": "wHoeJnKW9N7W"
      }
    },
    {
      "cell_type": "code",
      "source": [
        "def mse(y_true, y_pred):\n",
        "  return round(sum([(i[1]-1[0])**2 for i in zip(y_true, y_pred)])/len(y_true), 3)"
      ],
      "metadata": {
        "id": "dINOd6ME9exX"
      },
      "execution_count": 4,
      "outputs": []
    },
    {
      "cell_type": "markdown",
      "source": [
        "4. ReLU- Rectified Linear Unit. used in neural networks and is given by formula: f(x) = max(x,0)"
      ],
      "metadata": {
        "id": "JQg4FlHH_Gqv"
      }
    },
    {
      "cell_type": "code",
      "source": [
        "def relu(x):\n",
        "  return max(0, x)\n"
      ],
      "metadata": {
        "id": "yN5UEHsN_GUq"
      },
      "execution_count": 11,
      "outputs": []
    },
    {
      "cell_type": "markdown",
      "source": [
        "5. convert nested list to single list"
      ],
      "metadata": {
        "id": "x0E5pPr0AZpG"
      }
    },
    {
      "cell_type": "code",
      "source": [
        "def flatten(items):\n",
        "  result = []\n",
        "  for item in items:\n",
        "    result.extend(item)\n",
        "  return result \n",
        "\n",
        "print(flatten([[1,2,3],[4,5,6],[7,8,9]]))"
      ],
      "metadata": {
        "colab": {
          "base_uri": "https://localhost:8080/"
        },
        "id": "olI7bGWJAfWA",
        "outputId": "94a7791c-525d-4c1e-fabe-476319ae67f9"
      },
      "execution_count": 13,
      "outputs": [
        {
          "output_type": "stream",
          "name": "stdout",
          "text": [
            "[1, 2, 3, 4, 5, 6, 7, 8, 9]\n"
          ]
        }
      ]
    },
    {
      "cell_type": "markdown",
      "source": [
        "6. Function which takes a list as an argument and return list with all zeros at the end."
      ],
      "metadata": {
        "id": "TfJfhHjiLXgJ"
      }
    },
    {
      "cell_type": "code",
      "source": [
        "def transfer_zeros(list1):\n",
        "  result = []\n",
        "  counter = 0\n",
        "  for i in list1:\n",
        "    if i != 0:\n",
        "      result.append(i)\n",
        "    else:\n",
        "      counter += 1\n",
        "  result.extend([0]*counter)\n",
        "  return result\n",
        "\n",
        "print(transfer_zeros([3,4,0,2,0,5,1,6,2]))"
      ],
      "metadata": {
        "colab": {
          "base_uri": "https://localhost:8080/"
        },
        "id": "n9gBjXNWLvFR",
        "outputId": "78f84be9-c0b5-4c8d-9473-cb82f2c1615c"
      },
      "execution_count": 14,
      "outputs": [
        {
          "output_type": "stream",
          "name": "stdout",
          "text": [
            "[3, 4, 2, 5, 1, 6, 2, 0, 0]\n"
          ]
        }
      ]
    },
    {
      "cell_type": "markdown",
      "source": [
        "7. Function to implement euclidean_distance() that computes the distance between two points."
      ],
      "metadata": {
        "id": "ubP5yeM_M1l4"
      }
    },
    {
      "cell_type": "code",
      "source": [
        "def euclidean_distance(x,y):\n",
        "  squared_diff = [( i - j)**2 for i, j in zip(x, y)]\n",
        "  return (sum(squared_diff))** 0.5\n",
        "\n",
        "print(euclidean_distance([0,3],[4,0]))"
      ],
      "metadata": {
        "colab": {
          "base_uri": "https://localhost:8080/"
        },
        "id": "3DCQ06uHM36x",
        "outputId": "7d0f28cc-8b5a-40e5-d04d-95d100f3cafc"
      },
      "execution_count": 16,
      "outputs": [
        {
          "output_type": "stream",
          "name": "stdout",
          "text": [
            "5.0\n"
          ]
        }
      ]
    },
    {
      "cell_type": "markdown",
      "source": [
        "8. function replicate Range function."
      ],
      "metadata": {
        "id": "Zv8sAJ2gQn2T"
      }
    },
    {
      "cell_type": "code",
      "source": [
        "def arange(start, stop, step = 1):\n",
        "  result = []\n",
        "  for i in range(start,stop,step):\n",
        "    result.append(i)\n",
        "  return result\n",
        "\n",
        "print(arange(0,10))\n",
        "print(arange(0,10,2))"
      ],
      "metadata": {
        "colab": {
          "base_uri": "https://localhost:8080/"
        },
        "id": "64aRpjh_RzvH",
        "outputId": "e98907b0-20ba-4788-d9b2-0cc662f01543"
      },
      "execution_count": 17,
      "outputs": [
        {
          "output_type": "stream",
          "name": "stdout",
          "text": [
            "[0, 1, 2, 3, 4, 5, 6, 7, 8, 9]\n",
            "[0, 2, 4, 6, 8]\n"
          ]
        }
      ]
    },
    {
      "cell_type": "markdown",
      "source": [
        "9. Function to concate two lists in the format: \n",
        "l1 = [[1],[2]] \n",
        "l2 = [[3],[4]]\n",
        "output: l3 = [[1,3],[2,4]]"
      ],
      "metadata": {
        "id": "IPs4SduySftA"
      }
    },
    {
      "cell_type": "code",
      "source": [
        "def concat(l1,l2):\n",
        "  l3=[]\n",
        "  for i, j in zip(l1, l2):\n",
        "    l3.append([i[0],j[0]])\n",
        "  return l3\n",
        "\n",
        "l1 = [[1],[2]] \n",
        "l2 = [[3],[4]]\n",
        "print(concat(l1,l2))\n"
      ],
      "metadata": {
        "colab": {
          "base_uri": "https://localhost:8080/"
        },
        "id": "IEcISh5QS23Y",
        "outputId": "8b7deaa4-fa88-4556-d90e-6890eadf39d0"
      },
      "execution_count": 19,
      "outputs": [
        {
          "output_type": "stream",
          "name": "stdout",
          "text": [
            "[[1, 3], [2, 4]]\n"
          ]
        }
      ]
    },
    {
      "cell_type": "markdown",
      "source": [
        "10. Function identity() which takes natural number as an argument and return an idenity matrix(nested list)"
      ],
      "metadata": {
        "id": "HwmVRpTCbJsg"
      }
    },
    {
      "cell_type": "code",
      "source": [
        "def identity(x):\n",
        "  array = [[0]*x for i in range(x)]\n",
        "  for idx, item in enumerate(array):\n",
        "    item[idx] = 1\n",
        "  return array\n",
        "\n",
        "print(identity(2))\n",
        "print(identity(3))"
      ],
      "metadata": {
        "colab": {
          "base_uri": "https://localhost:8080/"
        },
        "id": "Mt0xOTwbbJUy",
        "outputId": "9d2d2aac-ec4d-4d76-e4fd-cf962c93cb67"
      },
      "execution_count": 25,
      "outputs": [
        {
          "output_type": "stream",
          "name": "stdout",
          "text": [
            "[[1, 0], [0, 1]]\n",
            "[[1, 0, 0], [0, 1, 0], [0, 0, 1]]\n"
          ]
        }
      ]
    },
    {
      "cell_type": "markdown",
      "source": [
        "11. Function that returns a two-dimensional array of height x width and fills it with a fixed value."
      ],
      "metadata": {
        "id": "XDduFVrJsMHt"
      }
    },
    {
      "cell_type": "code",
      "source": [
        "def fill_value(height, width, value):\n",
        "  return [[value] * width for i in range(height)]\n",
        "\n",
        "print(fill_value(2,3,255))\n",
        "print(fill_value(4,2,'a'))"
      ],
      "metadata": {
        "colab": {
          "base_uri": "https://localhost:8080/"
        },
        "id": "ew9qkUj3saZv",
        "outputId": "c785d544-035e-4028-fc46-e2a2e3ca049f"
      },
      "execution_count": 28,
      "outputs": [
        {
          "output_type": "stream",
          "name": "stdout",
          "text": [
            "[[255, 255, 255], [255, 255, 255]]\n",
            "[['a', 'a'], ['a', 'a'], ['a', 'a'], ['a', 'a']]\n"
          ]
        }
      ]
    },
    {
      "cell_type": "markdown",
      "source": [
        "12. Function that returns the trace of the matrix. the matrix must be a squared matrix. "
      ],
      "metadata": {
        "id": "Dyp8jbxXug4s"
      }
    },
    {
      "cell_type": "code",
      "source": [
        "def trace(array):\n",
        "  total = 0\n",
        "  for idx, item in enumerate(array):\n",
        "    total += item[idx]\n",
        "  return total\n",
        "\n",
        "print(trace([[1]]))\n",
        "print(trace([[1,2],[4,2]]))\n",
        "print(trace([[3,4,5],[5,2,1],[5,7,2]]))"
      ],
      "metadata": {
        "colab": {
          "base_uri": "https://localhost:8080/"
        },
        "id": "W1bX0UJ5uuaV",
        "outputId": "f557bf7c-029a-4805-8149-f69265e567d6"
      },
      "execution_count": 32,
      "outputs": [
        {
          "output_type": "stream",
          "name": "stdout",
          "text": [
            "1\n",
            "3\n",
            "7\n"
          ]
        }
      ]
    },
    {
      "cell_type": "markdown",
      "source": [
        "13. Function to transpose the two dimentional matrix (nested list).\n"
      ],
      "metadata": {
        "id": "koobF-PZmzj6"
      }
    },
    {
      "cell_type": "code",
      "source": [
        "def transpose(array):\n",
        "    width = len(array[0])\n",
        "    result = []\n",
        "    \n",
        "    for i in range(width):\n",
        "        pair = []\n",
        "        for item in array:\n",
        "            pair.append(item[i])\n",
        "        result.append(pair)\n",
        "    return result\n",
        "print(transpose([[1,2,3],[4,5,6]]))"
      ],
      "metadata": {
        "colab": {
          "base_uri": "https://localhost:8080/"
        },
        "id": "82wpyxdOmwGO",
        "outputId": "abc4b171-06f2-45d9-a224-4c0eaecab656"
      },
      "execution_count": 5,
      "outputs": [
        {
          "output_type": "stream",
          "name": "stdout",
          "text": [
            "[[1, 4], [2, 5], [3, 6]]\n"
          ]
        }
      ]
    },
    {
      "cell_type": "markdown",
      "source": [
        "14. Function to return the highest probability value for a given row in a 2-d matrix."
      ],
      "metadata": {
        "id": "8tWo23a7pC4m"
      }
    },
    {
      "cell_type": "code",
      "source": [
        "def max_prob(array):\n",
        "  result = []\n",
        "  for item in array:\n",
        "    max_val = max(item)\n",
        "    for idx, val in enumerate(item):\n",
        "      if val == max_val:\n",
        "        result.append([val])\n",
        "  return result\n",
        "\n",
        "print(max_prob([[0.3,0.4,0.3],[0.0,0.1,0.9]]))"
      ],
      "metadata": {
        "colab": {
          "base_uri": "https://localhost:8080/"
        },
        "id": "fn0EtZpbpDU9",
        "outputId": "06b34f29-fc2a-4574-e8e5-1e61609f6e40"
      },
      "execution_count": 7,
      "outputs": [
        {
          "output_type": "stream",
          "name": "stdout",
          "text": [
            "[[0.4], [0.9]]\n"
          ]
        }
      ]
    },
    {
      "cell_type": "markdown",
      "source": [
        "15. Function to place highest probability value in the row puts 1 and else 0."
      ],
      "metadata": {
        "id": "7sq0tMyyqhxZ"
      }
    },
    {
      "cell_type": "code",
      "source": [
        "def detect_class(array):\n",
        "  result = []\n",
        "\n",
        "  for item in array:\n",
        "    max_val = max(item)\n",
        "    empty = [0] * len(item)\n",
        "    for idx, val in enumerate(item):\n",
        "      if val == max_val:\n",
        "        empty[idx] = 1\n",
        "        result.append(empty)\n",
        "  return result\n",
        "\n",
        "print(detect_class([[0.3,0.4,0.2,0.1],[0.0,0.1,0.7,0.2]]))"
      ],
      "metadata": {
        "colab": {
          "base_uri": "https://localhost:8080/"
        },
        "id": "Vzo7KEKHq90b",
        "outputId": "5e175d35-bf42-4338-84fa-82bd9b5f91a4"
      },
      "execution_count": 9,
      "outputs": [
        {
          "output_type": "stream",
          "name": "stdout",
          "text": [
            "[[0, 1, 0, 0], [0, 0, 1, 0]]\n"
          ]
        }
      ]
    },
    {
      "cell_type": "markdown",
      "source": [
        "16. Function that takes two lists of same length(vectors) and calculate the dot product."
      ],
      "metadata": {
        "id": "CRS235wZsZ37"
      }
    },
    {
      "cell_type": "code",
      "source": [
        "def dot_product(vect1,vect2):\n",
        "  return sum([v*w for v,w in zip(vect1,vect2)])\n",
        "\n",
        "print(dot_product([1,2],[5,2]))"
      ],
      "metadata": {
        "colab": {
          "base_uri": "https://localhost:8080/"
        },
        "id": "JdKR5-Lgsaoc",
        "outputId": "96a46c42-08aa-4c01-9fcf-e0eda9b00030"
      },
      "execution_count": 10,
      "outputs": [
        {
          "output_type": "stream",
          "name": "stdout",
          "text": [
            "9\n"
          ]
        }
      ]
    },
    {
      "cell_type": "markdown",
      "source": [
        "17. Function that count all missing values in the list."
      ],
      "metadata": {
        "id": "dPlYSvVPtRI2"
      }
    },
    {
      "cell_type": "code",
      "source": [
        "def count_none(items):\n",
        "  counter = 0\n",
        "  for item in items:\n",
        "    if not item:\n",
        "      counter += 1\n",
        "  return counter\n",
        "print(count_none([1, None,None,5,None,2]))"
      ],
      "metadata": {
        "colab": {
          "base_uri": "https://localhost:8080/"
        },
        "id": "eUNucTSGtco4",
        "outputId": "acb331a4-915c-4f56-e6f9-90a1fefcb5fb"
      },
      "execution_count": 11,
      "outputs": [
        {
          "output_type": "stream",
          "name": "stdout",
          "text": [
            "3\n"
          ]
        }
      ]
    },
    {
      "cell_type": "markdown",
      "source": [
        "18. Function to extract Top n largest values from the given list."
      ],
      "metadata": {
        "id": "wgi2yUTXt7ck"
      }
    },
    {
      "cell_type": "code",
      "source": [
        "def top_n(items, n):\n",
        "  items.sort(reverse = True)\n",
        "  return items[:n]\n",
        "\n",
        "print(top_n([4,5,2,9,5,2,8,2,8,10],3))"
      ],
      "metadata": {
        "colab": {
          "base_uri": "https://localhost:8080/"
        },
        "id": "Cbg7iwYxt7EW",
        "outputId": "4dbf424a-d251-4db5-8610-41427891596d"
      },
      "execution_count": 12,
      "outputs": [
        {
          "output_type": "stream",
          "name": "stdout",
          "text": [
            "[10, 9, 8]\n"
          ]
        }
      ]
    },
    {
      "cell_type": "markdown",
      "source": [
        "###Buit-in modules and packages"
      ],
      "metadata": {
        "id": "q8Ny-k_AvFuh"
      }
    }
  ]
}
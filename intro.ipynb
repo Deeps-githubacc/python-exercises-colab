{
  "nbformat": 4,
  "nbformat_minor": 0,
  "metadata": {
    "colab": {
      "name": "intro.ipynb",
      "provenance": [],
      "collapsed_sections": [],
      "authorship_tag": "ABX9TyOZxNgJKLOfJPxDKVjh2/+T",
      "include_colab_link": true
    },
    "kernelspec": {
      "name": "python3",
      "display_name": "Python 3"
    },
    "language_info": {
      "name": "python"
    }
  },
  "cells": [
    {
      "cell_type": "markdown",
      "metadata": {
        "id": "view-in-github",
        "colab_type": "text"
      },
      "source": [
        "<a href=\"https://colab.research.google.com/github/Deeps-githubacc/python-exercises-colab/blob/main/intro.ipynb\" target=\"_parent\"><img src=\"https://colab.research.google.com/assets/colab-badge.svg\" alt=\"Open In Colab\"/></a>"
      ]
    },
    {
      "cell_type": "markdown",
      "source": [
        "###Basics"
      ],
      "metadata": {
        "id": "NrdXgBNSCZz1"
      }
    },
    {
      "cell_type": "code",
      "execution_count": 1,
      "metadata": {
        "colab": {
          "base_uri": "https://localhost:8080/"
        },
        "id": "d27HWf3V_Kc_",
        "outputId": "f75b8bec-4ff0-431d-f179-04a202cd8a32"
      },
      "outputs": [
        {
          "output_type": "stream",
          "name": "stdout",
          "text": [
            "Hello world! welcome to python exercise repo\n"
          ]
        }
      ],
      "source": [
        "print(\"Hello world! welcome to python exercise repo\")\n"
      ]
    },
    {
      "cell_type": "markdown",
      "source": [
        "***To check python version***"
      ],
      "metadata": {
        "id": "ArGbwbHmEb9m"
      }
    },
    {
      "cell_type": "code",
      "source": [
        "import sys\n",
        "print(sys.version)\n",
        "print(sys.version.split()[0]) ##more readable form"
      ],
      "metadata": {
        "colab": {
          "base_uri": "https://localhost:8080/"
        },
        "id": "I6V3bZs3ErNG",
        "outputId": "7a9c3891-079d-48bf-976b-18f8c47e8398"
      },
      "execution_count": 4,
      "outputs": [
        {
          "output_type": "stream",
          "name": "stdout",
          "text": [
            "3.7.13 (default, Apr 24 2022, 01:04:09) \n",
            "[GCC 7.5.0]\n",
            "3.7.13\n"
          ]
        }
      ]
    },
    {
      "cell_type": "markdown",
      "source": [
        "***Use of print statement***"
      ],
      "metadata": {
        "id": "6NbmlnogHc6E"
      }
    },
    {
      "cell_type": "code",
      "source": [
        "age=20\n",
        "print(\"I am %d years old.\"%(age))"
      ],
      "metadata": {
        "colab": {
          "base_uri": "https://localhost:8080/"
        },
        "id": "tbJw_7eZHJJf",
        "outputId": "a77bac35-4229-4e40-8f47-6cd1082f9441"
      },
      "execution_count": 5,
      "outputs": [
        {
          "output_type": "stream",
          "name": "stdout",
          "text": [
            "I am 20 years old.\n"
          ]
        }
      ]
    },
    {
      "cell_type": "code",
      "source": [
        "age=20\n",
        "print(\"I am {} years old.\".format(age))"
      ],
      "metadata": {
        "colab": {
          "base_uri": "https://localhost:8080/"
        },
        "id": "3Z2TstibHuND",
        "outputId": "9e11560f-7798-4c00-e407-ac24a8b49f53"
      },
      "execution_count": 6,
      "outputs": [
        {
          "output_type": "stream",
          "name": "stdout",
          "text": [
            "I am 20 years old.\n"
          ]
        }
      ]
    },
    {
      "cell_type": "code",
      "source": [
        "age=20\n",
        "print(f\"I am {age} years old.\")"
      ],
      "metadata": {
        "colab": {
          "base_uri": "https://localhost:8080/"
        },
        "id": "1fzLdaulIGb4",
        "outputId": "1adc8ef7-efcc-48f8-fba9-7df14ddddd47"
      },
      "execution_count": 7,
      "outputs": [
        {
          "output_type": "stream",
          "name": "stdout",
          "text": [
            "I am 20 years old.\n"
          ]
        }
      ]
    },
    {
      "cell_type": "code",
      "source": [
        "language=\"python\"\n",
        "versions=\"3.7\"\n",
        "print(f\"I am learning {language} version {versions}\")"
      ],
      "metadata": {
        "colab": {
          "base_uri": "https://localhost:8080/"
        },
        "id": "bdRzeJqyIcyy",
        "outputId": "ef514735-e007-4442-c24a-5279ba0963a6"
      },
      "execution_count": 9,
      "outputs": [
        {
          "output_type": "stream",
          "name": "stdout",
          "text": [
            "I am learning python version 3.7\n"
          ]
        }
      ]
    },
    {
      "cell_type": "code",
      "source": [
        "price=34.99\n",
        "weight=20\n",
        "print(f\"Price: ${price}. Weight: {weight} lbs.\")"
      ],
      "metadata": {
        "colab": {
          "base_uri": "https://localhost:8080/"
        },
        "id": "sWJMXOdiKOWN",
        "outputId": "df205f7b-15a6-4e55-9470-1a49131398ca"
      },
      "execution_count": 10,
      "outputs": [
        {
          "output_type": "stream",
          "name": "stdout",
          "text": [
            "Price: $34.99. Weight: 20 lbs.\n"
          ]
        }
      ]
    },
    {
      "cell_type": "code",
      "source": [
        "from math import pi\n",
        "print(f'Pi: {pi:.2f}')\n"
      ],
      "metadata": {
        "colab": {
          "base_uri": "https://localhost:8080/"
        },
        "id": "LdIL-Uj3LgGe",
        "outputId": "398bb3d9-c7a2-4f14-febc-cb1d32ac1ba3"
      },
      "execution_count": 20,
      "outputs": [
        {
          "output_type": "stream",
          "name": "stdout",
          "text": [
            "Pi: 3.14\n"
          ]
        }
      ]
    },
    {
      "cell_type": "code",
      "source": [
        "print(\"-\"*40)\n",
        "print(\"VERSION: 1.0.1\")\n",
        "print(\"-\"*40)\n"
      ],
      "metadata": {
        "colab": {
          "base_uri": "https://localhost:8080/"
        },
        "id": "JDIJM0bRMzgP",
        "outputId": "6c038573-55ad-42b0-dc27-1e229a1c4f2d"
      },
      "execution_count": 24,
      "outputs": [
        {
          "output_type": "stream",
          "name": "stdout",
          "text": [
            "----------------------------------------\n",
            "VERSION: 1.0.1\n",
            "----------------------------------------\n"
          ]
        }
      ]
    },
    {
      "cell_type": "code",
      "source": [
        "print(\"=\"*40)\n",
        "print(\"author: johnsmith@sample.com\")\n",
        "print(\"date: 01-01-2021\")\n",
        "print(\"=\"*40)\n"
      ],
      "metadata": {
        "colab": {
          "base_uri": "https://localhost:8080/"
        },
        "id": "QatXeRCaOMQq",
        "outputId": "034ca64b-e342-4f73-b68e-ad3b1d4cc725"
      },
      "execution_count": 26,
      "outputs": [
        {
          "output_type": "stream",
          "name": "stdout",
          "text": [
            "========================================\n",
            "author: johnsmith@sample.com\n",
            "date: 01-01-2021\n",
            "========================================\n"
          ]
        }
      ]
    },
    {
      "cell_type": "code",
      "source": [
        "string=\"summer time holiday\"\n",
        "print(string.replace(\" \",\"#\"))\n",
        "print('summer','time','holiday', sep='#')"
      ],
      "metadata": {
        "colab": {
          "base_uri": "https://localhost:8080/"
        },
        "id": "XwQwXX0kO85g",
        "outputId": "bf8c9e1e-bb58-4fc7-8dc1-17d962279c8e"
      },
      "execution_count": 29,
      "outputs": [
        {
          "output_type": "stream",
          "name": "stdout",
          "text": [
            "summer#time#holiday\n",
            "summer#time#holiday\n"
          ]
        }
      ]
    },
    {
      "cell_type": "markdown",
      "source": [
        "***Calculations in python***\n"
      ],
      "metadata": {
        "id": "tYc5_35tQJP2"
      }
    },
    {
      "cell_type": "code",
      "source": [
        "from math import pi\n",
        "radius = 5\n",
        "pi = 3.14\n",
        "area = pi * radius ** 2\n",
        "print(f'Area: {area:.1f}')\n"
      ],
      "metadata": {
        "colab": {
          "base_uri": "https://localhost:8080/"
        },
        "id": "gkVz5J0Yig-t",
        "outputId": "0866072e-f065-458b-f8e4-a5c828c4e77c"
      },
      "execution_count": 43,
      "outputs": [
        {
          "output_type": "stream",
          "name": "stdout",
          "text": [
            "Area: 78.5\n"
          ]
        }
      ]
    },
    {
      "cell_type": "code",
      "source": [
        "principle =1000\n",
        "rate=0.03\n",
        "time=5\n",
        "finalvalue= principle * (1+ rate) ** time\n",
        "print(f'The future value of the investment: {finalvalue:.2f} USD')\n"
      ],
      "metadata": {
        "colab": {
          "base_uri": "https://localhost:8080/"
        },
        "id": "BIsmp_ZIlFi6",
        "outputId": "d0fa566b-aeb9-42fc-afbb-a912085883b7"
      },
      "execution_count": 46,
      "outputs": [
        {
          "output_type": "stream",
          "name": "stdout",
          "text": [
            "The future value of the investment: 1159.27 USD\n"
          ]
        }
      ]
    },
    {
      "cell_type": "markdown",
      "source": [
        "delta value for the eq: 3x2-4x+1=0"
      ],
      "metadata": {
        "id": "G0_sGqStmXyY"
      }
    },
    {
      "cell_type": "code",
      "source": [
        "a=3\n",
        "b=-4\n",
        "c=1\n",
        "delta= (b**2) - (4*a*c)\n",
        "print(f'Delta: {delta}')"
      ],
      "metadata": {
        "colab": {
          "base_uri": "https://localhost:8080/"
        },
        "id": "Bz7rb2tYl_jS",
        "outputId": "df0258dd-de88-48c7-e675-012877ca24ab"
      },
      "execution_count": 1,
      "outputs": [
        {
          "output_type": "stream",
          "name": "stdout",
          "text": [
            "Delta: 4\n"
          ]
        }
      ]
    },
    {
      "cell_type": "markdown",
      "source": [
        "***String slicing***"
      ],
      "metadata": {
        "id": "BkwjA6atn92u"
      }
    },
    {
      "cell_type": "code",
      "source": [
        "filename=\"view.jpg\"\n",
        "print(filename[-3:])"
      ],
      "metadata": {
        "colab": {
          "base_uri": "https://localhost:8080/"
        },
        "id": "KeCWDZShfwJB",
        "outputId": "daf9d2a2-45aa-4cdf-b33d-ea26791ee5bb"
      },
      "execution_count": 3,
      "outputs": [
        {
          "output_type": "stream",
          "name": "stdout",
          "text": [
            "jpg\n"
          ]
        }
      ]
    },
    {
      "cell_type": "code",
      "source": [
        "string = 'PKV-89415-PLN'\n",
        "code= string[0:3]+string[-3:]\n",
        "print(code)"
      ],
      "metadata": {
        "colab": {
          "base_uri": "https://localhost:8080/"
        },
        "id": "pJTmI56vhxNs",
        "outputId": "cf022214-f69b-431e-eb97-20f94389f4f3"
      },
      "execution_count": 4,
      "outputs": [
        {
          "output_type": "stream",
          "name": "stdout",
          "text": [
            "PKVPLN\n"
          ]
        }
      ]
    },
    {
      "cell_type": "code",
      "source": [
        "string = '1 0 0 1 0 1'\n",
        "num = string.replace(\" \",\"\")\n",
        "print(\"Number found: %d\"%(int(num,2)))\n"
      ],
      "metadata": {
        "colab": {
          "base_uri": "https://localhost:8080/"
        },
        "id": "Raaofrv3i3BM",
        "outputId": "04ff47bc-7760-41a2-9a07-1ba23b0069db"
      },
      "execution_count": 19,
      "outputs": [
        {
          "output_type": "stream",
          "name": "stdout",
          "text": [
            "Number found: 37\n"
          ]
        }
      ]
    },
    {
      "cell_type": "code",
      "source": [
        "text = 'Python Course'\n",
        "print(text[::-1])"
      ],
      "metadata": {
        "colab": {
          "base_uri": "https://localhost:8080/"
        },
        "id": "nMXnKEAloPLs",
        "outputId": "82379d7a-4bc9-4e16-9880-a80e3801417c"
      },
      "execution_count": 23,
      "outputs": [
        {
          "output_type": "stream",
          "name": "stdout",
          "text": [
            "esruoC nohtyP\n"
          ]
        }
      ]
    },
    {
      "cell_type": "code",
      "source": [
        "var1 = ''\n",
        "var2 = ' '\n",
        "var3 = '\\n'\n",
        "print(type(var1))\n",
        "print(type(var2))\n",
        "print(type(var3))"
      ],
      "metadata": {
        "colab": {
          "base_uri": "https://localhost:8080/"
        },
        "id": "OE7-b1Azp2mH",
        "outputId": "15259c77-3d84-4ed6-871b-965e60c96d51"
      },
      "execution_count": 24,
      "outputs": [
        {
          "output_type": "stream",
          "name": "stdout",
          "text": [
            "<class 'str'>\n",
            "<class 'str'>\n",
            "<class 'str'>\n"
          ]
        }
      ]
    },
    {
      "cell_type": "code",
      "source": [
        "var1 = None\n",
        "var2 = False\n",
        "var3 = 'True'\n",
        " \n",
        "print(type(var1))\n",
        "print(type(var2))\n",
        "print(type(var3))"
      ],
      "metadata": {
        "colab": {
          "base_uri": "https://localhost:8080/"
        },
        "id": "X7pUoMcBqLSO",
        "outputId": "e3f93859-50db-47df-cfe2-315b8cfeaf98"
      },
      "execution_count": 25,
      "outputs": [
        {
          "output_type": "stream",
          "name": "stdout",
          "text": [
            "<class 'NoneType'>\n",
            "<class 'bool'>\n",
            "<class 'str'>\n"
          ]
        }
      ]
    },
    {
      "cell_type": "code",
      "source": [
        "flag = False\n",
        "print(isinstance(flag,bool))"
      ],
      "metadata": {
        "colab": {
          "base_uri": "https://localhost:8080/"
        },
        "id": "RtgPKpmlq84W",
        "outputId": "906fdd44-c347-46da-9975-3fae727cc59a"
      },
      "execution_count": 26,
      "outputs": [
        {
          "output_type": "stream",
          "name": "stdout",
          "text": [
            "True\n"
          ]
        }
      ]
    },
    {
      "cell_type": "code",
      "source": [
        "text = 'python is a popular programming language.'\n",
        "print(text.capitalize())"
      ],
      "metadata": {
        "colab": {
          "base_uri": "https://localhost:8080/"
        },
        "id": "qCjvxPFerujI",
        "outputId": "da723af0-e22d-430c-87bd-f2ff1dae685d"
      },
      "execution_count": 29,
      "outputs": [
        {
          "output_type": "stream",
          "name": "stdout",
          "text": [
            "Python is a popular programming language.\n"
          ]
        }
      ]
    },
    {
      "cell_type": "code",
      "source": [
        "text = 'python is a popular programming language.'\n",
        "print(\"Number of occurrences: %s\"%(text.count(\"p\")))"
      ],
      "metadata": {
        "colab": {
          "base_uri": "https://localhost:8080/"
        },
        "id": "yX6MUMizsQJV",
        "outputId": "03b48902-b8d6-4a02-ea45-83b52b7a4891"
      },
      "execution_count": 32,
      "outputs": [
        {
          "output_type": "stream",
          "name": "stdout",
          "text": [
            "Number of occurrences: 4\n"
          ]
        }
      ]
    },
    {
      "cell_type": "code",
      "source": [
        "code1 = 'FVNISJND-XX-2020'\n",
        "code2 = 'FVNISJND-XY-2019'\n",
        "print(\"code1: %s\"%(code1.endswith(\"2020\")))\n",
        "print(\"code2: %s\"%(code2.endswith(\"2020\")))"
      ],
      "metadata": {
        "colab": {
          "base_uri": "https://localhost:8080/"
        },
        "id": "5emWgZUXs9vb",
        "outputId": "b2a25080-c9a4-4b3f-973e-b7de7074b447"
      },
      "execution_count": 33,
      "outputs": [
        {
          "output_type": "stream",
          "name": "stdout",
          "text": [
            "code1: True\n",
            "code2: False\n"
          ]
        }
      ]
    },
    {
      "cell_type": "code",
      "source": [
        "path1 = 'youtube.com/watch?v=5EhRztVxums'\n",
        "path2 = 'google.com/search?q=car'\n",
        "print(\"path1: %s\"%(path1.startswith(\"youtube\")))\n",
        "print(\"path2: %s\"%(path2.startswith(\"youtube\")))"
      ],
      "metadata": {
        "colab": {
          "base_uri": "https://localhost:8080/"
        },
        "id": "PfyQTyQrtnTd",
        "outputId": "e1ffb285-595f-4437-e843-c0f8f5798942"
      },
      "execution_count": 34,
      "outputs": [
        {
          "output_type": "stream",
          "name": "stdout",
          "text": [
            "path1: True\n",
            "path2: False\n"
          ]
        }
      ]
    },
    {
      "cell_type": "code",
      "source": [
        "path1 = 'https://e-smartdata.teachable.com/p/sciezka-data-scientist-machine-learning-engineer'\n",
        "path2 = 'https://e-smartdata.teachable.com/p/sciezka-data-scientist-deep-learning-engineer'\n",
        "path3 = 'https://e-smartdata.teachable.com/p/sciezka-bi-analyst-data-analyst'\n",
        "print(\"path1: %s\"%(path1.find(\"scientist\")))\n",
        "print(\"path2: %s\"%(path2.find(\"scientist\")))\n",
        "print(\"path3: %s\"%(path3.find(\"scientist\")))"
      ],
      "metadata": {
        "colab": {
          "base_uri": "https://localhost:8080/"
        },
        "id": "hmXwCXj7uWfp",
        "outputId": "45e22c1d-5c18-4ce1-877f-e73c5dc833f3"
      },
      "execution_count": 39,
      "outputs": [
        {
          "output_type": "stream",
          "name": "stdout",
          "text": [
            "path1: 49\n",
            "path2: 49\n",
            "path3: -1\n"
          ]
        }
      ]
    },
    {
      "cell_type": "code",
      "source": [
        "code1 = 'FVNISJND-20'\n",
        "code2 = 'FVNISJND20'\n",
        "print(\"code1: %s\"%(code1.isalnum()))\n",
        "print(\"code2: %s\"%(code2.isalnum()))"
      ],
      "metadata": {
        "colab": {
          "base_uri": "https://localhost:8080/"
        },
        "id": "vyAbGTk8y6uV",
        "outputId": "21c66a2d-7250-4c45-ac92-2688a5b62183"
      },
      "execution_count": 40,
      "outputs": [
        {
          "output_type": "stream",
          "name": "stdout",
          "text": [
            "code1: False\n",
            "code2: True\n"
          ]
        }
      ]
    },
    {
      "cell_type": "code",
      "source": [
        "text = 'Google Colab'\n",
        "print(text.lower())\n",
        "print(text.upper())"
      ],
      "metadata": {
        "colab": {
          "base_uri": "https://localhost:8080/"
        },
        "id": "_16Ky7hDz8MU",
        "outputId": "3dc8d889-bab8-421a-c69a-829b49ba85c4"
      },
      "execution_count": 42,
      "outputs": [
        {
          "output_type": "stream",
          "name": "stdout",
          "text": [
            "google colab\n",
            "GOOGLE COLAB\n"
          ]
        }
      ]
    },
    {
      "cell_type": "code",
      "source": [
        "text = '  Google Colab   '\n",
        "text1 = text.lstrip()\n",
        "text2 = text1.rstrip()\n",
        "print(text2)"
      ],
      "metadata": {
        "colab": {
          "base_uri": "https://localhost:8080/"
        },
        "id": "9TDVmXqp0X76",
        "outputId": "fb24ef82-31be-45fa-8884-2c010a14cd5e"
      },
      "execution_count": 46,
      "outputs": [
        {
          "output_type": "stream",
          "name": "stdout",
          "text": [
            "Google Colab\n"
          ]
        }
      ]
    },
    {
      "cell_type": "code",
      "source": [
        "code = 'FVNISJND-XX'\n",
        "print(code.replace(\"-\",\" \"))"
      ],
      "metadata": {
        "colab": {
          "base_uri": "https://localhost:8080/"
        },
        "id": "RBRWJ-S_1pmx",
        "outputId": "fea9a991-0aa2-4bb5-b78c-c6f028372d63"
      },
      "execution_count": 47,
      "outputs": [
        {
          "output_type": "stream",
          "name": "stdout",
          "text": [
            "FVNISJND XX\n"
          ]
        }
      ]
    },
    {
      "cell_type": "code",
      "source": [
        "text = '340-23-245-235'\n",
        "print(text.replace(\"-\",\"\"))"
      ],
      "metadata": {
        "colab": {
          "base_uri": "https://localhost:8080/"
        },
        "id": "OlDWbP-C2ai1",
        "outputId": "f355f8b0-2516-4f62-8012-37ff8ee82308"
      },
      "execution_count": 48,
      "outputs": [
        {
          "output_type": "stream",
          "name": "stdout",
          "text": [
            "34023245235\n"
          ]
        }
      ]
    },
    {
      "cell_type": "code",
      "source": [
        "text = 'Open,High,Low,Close'\n",
        "print(text.split(','))"
      ],
      "metadata": {
        "colab": {
          "base_uri": "https://localhost:8080/"
        },
        "id": "y8Kf5VyaS9rC",
        "outputId": "acac6e61-28ac-4eaf-f8a7-05e00b625800"
      },
      "execution_count": 1,
      "outputs": [
        {
          "output_type": "stream",
          "name": "stdout",
          "text": [
            "['Open', 'High', 'Low', 'Close']\n"
          ]
        }
      ]
    },
    {
      "cell_type": "code",
      "source": [
        "text = \"\"\"Python is a general-purpose language.\n",
        "Python is popular.\"\"\"\n",
        "print(text.split(\"\\n\"))"
      ],
      "metadata": {
        "colab": {
          "base_uri": "https://localhost:8080/"
        },
        "id": "YANposXETYoh",
        "outputId": "e1479a4c-63aa-4b1d-f1c4-05b47bf2ca47"
      },
      "execution_count": 3,
      "outputs": [
        {
          "output_type": "stream",
          "name": "stdout",
          "text": [
            "['Python is a general-purpose language.', 'Python is popular.']\n"
          ]
        }
      ]
    },
    {
      "cell_type": "code",
      "source": [
        "num = 34\n",
        "print(str(num).zfill(6))"
      ],
      "metadata": {
        "colab": {
          "base_uri": "https://localhost:8080/"
        },
        "id": "bU3U5Tq1VRVO",
        "outputId": "c30157d8-0681-4017-a6e2-2f475048f4d7"
      },
      "execution_count": 8,
      "outputs": [
        {
          "output_type": "stream",
          "name": "stdout",
          "text": [
            "000034\n"
          ]
        }
      ]
    },
    {
      "cell_type": "code",
      "source": [
        "url = 'https://e-smartdata.teachable.com/p/sciezka-data-scientist-machine-learning-engineer'\n",
        "string = url.split('/')[-1]\n",
        "print(string.replace(\"-\",\" \"))\n"
      ],
      "metadata": {
        "colab": {
          "base_uri": "https://localhost:8080/"
        },
        "id": "lJRQUmeCW-JF",
        "outputId": "1dce6b20-4a88-48de-875d-cdc023bd0d92"
      },
      "execution_count": 12,
      "outputs": [
        {
          "output_type": "stream",
          "name": "stdout",
          "text": [
            "sciezka data scientist machine learning engineer\n"
          ]
        }
      ]
    },
    {
      "cell_type": "markdown",
      "source": [
        "###Data Structures\n"
      ],
      "metadata": {
        "id": "2kJyDlvyZ4B6"
      }
    },
    {
      "cell_type": "code",
      "source": [
        "subjects = {'mathematics', 'biology'}\n",
        "subjects.add('english')\n",
        "print(subjects)"
      ],
      "metadata": {
        "colab": {
          "base_uri": "https://localhost:8080/"
        },
        "id": "MCozaGIwavRW",
        "outputId": "7d7bdbac-1459-4145-bf10-a88b80b4d064"
      },
      "execution_count": 19,
      "outputs": [
        {
          "output_type": "stream",
          "name": "stdout",
          "text": [
            "{'english', 'mathematics', 'biology'}\n"
          ]
        }
      ]
    },
    {
      "cell_type": "code",
      "source": [
        "text = 'Programming in python.'\n",
        "vowels = {'a', 'e', 'i', 'o', 'u'}\n",
        "text = text.lower().replace(\" \",\"\")\n",
        "text = text.replace(\".\",\"\")\n",
        "letters =set(text).difference(vowels)\n",
        "print(\"Number of items: %s\"%(len(letters)))"
      ],
      "metadata": {
        "colab": {
          "base_uri": "https://localhost:8080/"
        },
        "id": "BdiDnI0VcHhU",
        "outputId": "bca4516e-1b97-41a2-d69f-fbc23260d1d8"
      },
      "execution_count": 43,
      "outputs": [
        {
          "output_type": "stream",
          "name": "stdout",
          "text": [
            "Number of items: 8\n"
          ]
        }
      ]
    },
    {
      "cell_type": "code",
      "source": [
        "A = {2, 4, 6, 8}\n",
        "B = {4, 10}\n",
        "print(\"Symmetric difference: %s\"%(A.symmetric_difference(B)))"
      ],
      "metadata": {
        "colab": {
          "base_uri": "https://localhost:8080/"
        },
        "id": "3F6kCxd_frPA",
        "outputId": "9df2ae2d-5427-4519-c5c5-0e5ce5144aac"
      },
      "execution_count": 49,
      "outputs": [
        {
          "output_type": "stream",
          "name": "stdout",
          "text": [
            "Symmetric difference: {2, 6, 8, 10}\n"
          ]
        }
      ]
    },
    {
      "cell_type": "code",
      "source": [
        "ad1_id = {'001', '002', '003'}\n",
        "ad2_id = {'002', '003', '007'}\n",
        "print(\"Selected ID: %s\"%(ad1_id.symmetric_difference(ad2_id)))"
      ],
      "metadata": {
        "colab": {
          "base_uri": "https://localhost:8080/"
        },
        "id": "Zj5fG4zvlI3f",
        "outputId": "92f2210a-ffd6-4e76-a97a-2ce55e63a945"
      },
      "execution_count": 50,
      "outputs": [
        {
          "output_type": "stream",
          "name": "stdout",
          "text": [
            "Selected ID: {'001', '007'}\n"
          ]
        }
      ]
    },
    {
      "cell_type": "code",
      "source": [
        "is_clicked = {'9001', '9002', '9005'}\n",
        "is_bought = {'9002', '9004', '9005'}\n",
        "print(\"Customer ID: %s\"%(is_clicked.intersection(is_bought)))"
      ],
      "metadata": {
        "colab": {
          "base_uri": "https://localhost:8080/"
        },
        "id": "HycSmEZbl4cm",
        "outputId": "67205b25-c978-427f-b6f3-fb80292184e7"
      },
      "execution_count": 52,
      "outputs": [
        {
          "output_type": "stream",
          "name": "stdout",
          "text": [
            "Customer ID: {'9005', '9002'}\n"
          ]
        }
      ]
    },
    {
      "cell_type": "markdown",
      "source": [
        "***"
      ],
      "metadata": {
        "id": "I0w8e2KyZjrS"
      }
    }
  ]
}